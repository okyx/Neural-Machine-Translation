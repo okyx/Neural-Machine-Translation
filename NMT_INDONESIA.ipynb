{
  "nbformat": 4,
  "nbformat_minor": 0,
  "metadata": {
    "colab": {
      "name": "NMT INDONESIA.ipynb",
      "provenance": [],
      "collapsed_sections": []
    },
    "kernelspec": {
      "name": "python3",
      "display_name": "Python 3"
    },
    "language_info": {
      "name": "python"
    },
    "accelerator": "GPU"
  },
  "cells": [
    {
      "cell_type": "code",
      "source": [
        "import tensorflow as tf\n",
        "import numpy as np\n",
        "from tensorflow.keras.layers import Dense, GRU\n",
        "import pandas as pd\n",
        "import string\n",
        "import re\n",
        "from tensorflow import keras\n",
        "from tensorflow.keras.preprocessing.text import Tokenizer\n",
        "from sklearn.model_selection import train_test_split\n",
        "\n",
        "from tensorflow.keras.preprocessing.sequence import pad_sequences"
      ],
      "metadata": {
        "id": "wSH_i1VJ-TS1"
      },
      "execution_count": 1,
      "outputs": []
    },
    {
      "cell_type": "code",
      "source": [
        "data = pd.read_table('/content/sample_data/ind.txt', names=['eng', 'ind'],index_col=False)"
      ],
      "metadata": {
        "id": "Eo4f7RHFV1Fv",
        "colab": {
          "base_uri": "https://localhost:8080/"
        },
        "outputId": "f2876f30-12b1-49fc-9948-d7bf979fea4a"
      },
      "execution_count": 2,
      "outputs": [
        {
          "output_type": "stream",
          "name": "stderr",
          "text": [
            "/usr/local/lib/python3.7/dist-packages/pandas/util/_decorators.py:311: ParserWarning: Length of header or names does not match length of data. This leads to a loss of data with index_col=False.\n",
            "  return func(*args, **kwargs)\n"
          ]
        }
      ]
    },
    {
      "cell_type": "code",
      "source": [
        "data"
      ],
      "metadata": {
        "colab": {
          "base_uri": "https://localhost:8080/",
          "height": 424
        },
        "id": "6WBJRqnVUhrT",
        "outputId": "c1bda673-343c-4b77-ceb7-7156687e37e2"
      },
      "execution_count": 3,
      "outputs": [
        {
          "output_type": "execute_result",
          "data": {
            "text/plain": [
              "                                                    eng  \\\n",
              "0                                                  Run!   \n",
              "1                                                  Who?   \n",
              "2                                                  Wow!   \n",
              "3                                                 Help!   \n",
              "4                                                 Jump!   \n",
              "...                                                 ...   \n",
              "8504  Every student who has graduated from our unive...   \n",
              "8505  If you don't want to put on sunscreen, that's ...   \n",
              "8506  When she was finished ironing, Mary switched o...   \n",
              "8507  Irene Pepperberg, a researcher at Northwestern...   \n",
              "8508  If a person has not had a chance to acquire hi...   \n",
              "\n",
              "                                                    ind  \n",
              "0                                                 Lari!  \n",
              "1                                                Siapa?  \n",
              "2                                                  Wow!  \n",
              "3                                               Tolong!  \n",
              "4                                               Lompat!  \n",
              "...                                                 ...  \n",
              "8504  Semua mahasiswa yang telah menyelesaikan studi...  \n",
              "8505  Kalau kamu tidak mau pakai tabir surya, ya, te...  \n",
              "8506  Ketika dia sudah selesai menyetrika, Mary mema...  \n",
              "8507  Irene Pepperberg, seorang peneliti di Universi...  \n",
              "8508  Jika seseorang tidak berkesempatan untuk mengu...  \n",
              "\n",
              "[8509 rows x 2 columns]"
            ],
            "text/html": [
              "\n",
              "  <div id=\"df-2afd1754-35f5-48a3-b1b4-a02586c86321\">\n",
              "    <div class=\"colab-df-container\">\n",
              "      <div>\n",
              "<style scoped>\n",
              "    .dataframe tbody tr th:only-of-type {\n",
              "        vertical-align: middle;\n",
              "    }\n",
              "\n",
              "    .dataframe tbody tr th {\n",
              "        vertical-align: top;\n",
              "    }\n",
              "\n",
              "    .dataframe thead th {\n",
              "        text-align: right;\n",
              "    }\n",
              "</style>\n",
              "<table border=\"1\" class=\"dataframe\">\n",
              "  <thead>\n",
              "    <tr style=\"text-align: right;\">\n",
              "      <th></th>\n",
              "      <th>eng</th>\n",
              "      <th>ind</th>\n",
              "    </tr>\n",
              "  </thead>\n",
              "  <tbody>\n",
              "    <tr>\n",
              "      <th>0</th>\n",
              "      <td>Run!</td>\n",
              "      <td>Lari!</td>\n",
              "    </tr>\n",
              "    <tr>\n",
              "      <th>1</th>\n",
              "      <td>Who?</td>\n",
              "      <td>Siapa?</td>\n",
              "    </tr>\n",
              "    <tr>\n",
              "      <th>2</th>\n",
              "      <td>Wow!</td>\n",
              "      <td>Wow!</td>\n",
              "    </tr>\n",
              "    <tr>\n",
              "      <th>3</th>\n",
              "      <td>Help!</td>\n",
              "      <td>Tolong!</td>\n",
              "    </tr>\n",
              "    <tr>\n",
              "      <th>4</th>\n",
              "      <td>Jump!</td>\n",
              "      <td>Lompat!</td>\n",
              "    </tr>\n",
              "    <tr>\n",
              "      <th>...</th>\n",
              "      <td>...</td>\n",
              "      <td>...</td>\n",
              "    </tr>\n",
              "    <tr>\n",
              "      <th>8504</th>\n",
              "      <td>Every student who has graduated from our unive...</td>\n",
              "      <td>Semua mahasiswa yang telah menyelesaikan studi...</td>\n",
              "    </tr>\n",
              "    <tr>\n",
              "      <th>8505</th>\n",
              "      <td>If you don't want to put on sunscreen, that's ...</td>\n",
              "      <td>Kalau kamu tidak mau pakai tabir surya, ya, te...</td>\n",
              "    </tr>\n",
              "    <tr>\n",
              "      <th>8506</th>\n",
              "      <td>When she was finished ironing, Mary switched o...</td>\n",
              "      <td>Ketika dia sudah selesai menyetrika, Mary mema...</td>\n",
              "    </tr>\n",
              "    <tr>\n",
              "      <th>8507</th>\n",
              "      <td>Irene Pepperberg, a researcher at Northwestern...</td>\n",
              "      <td>Irene Pepperberg, seorang peneliti di Universi...</td>\n",
              "    </tr>\n",
              "    <tr>\n",
              "      <th>8508</th>\n",
              "      <td>If a person has not had a chance to acquire hi...</td>\n",
              "      <td>Jika seseorang tidak berkesempatan untuk mengu...</td>\n",
              "    </tr>\n",
              "  </tbody>\n",
              "</table>\n",
              "<p>8509 rows × 2 columns</p>\n",
              "</div>\n",
              "      <button class=\"colab-df-convert\" onclick=\"convertToInteractive('df-2afd1754-35f5-48a3-b1b4-a02586c86321')\"\n",
              "              title=\"Convert this dataframe to an interactive table.\"\n",
              "              style=\"display:none;\">\n",
              "        \n",
              "  <svg xmlns=\"http://www.w3.org/2000/svg\" height=\"24px\"viewBox=\"0 0 24 24\"\n",
              "       width=\"24px\">\n",
              "    <path d=\"M0 0h24v24H0V0z\" fill=\"none\"/>\n",
              "    <path d=\"M18.56 5.44l.94 2.06.94-2.06 2.06-.94-2.06-.94-.94-2.06-.94 2.06-2.06.94zm-11 1L8.5 8.5l.94-2.06 2.06-.94-2.06-.94L8.5 2.5l-.94 2.06-2.06.94zm10 10l.94 2.06.94-2.06 2.06-.94-2.06-.94-.94-2.06-.94 2.06-2.06.94z\"/><path d=\"M17.41 7.96l-1.37-1.37c-.4-.4-.92-.59-1.43-.59-.52 0-1.04.2-1.43.59L10.3 9.45l-7.72 7.72c-.78.78-.78 2.05 0 2.83L4 21.41c.39.39.9.59 1.41.59.51 0 1.02-.2 1.41-.59l7.78-7.78 2.81-2.81c.8-.78.8-2.07 0-2.86zM5.41 20L4 18.59l7.72-7.72 1.47 1.35L5.41 20z\"/>\n",
              "  </svg>\n",
              "      </button>\n",
              "      \n",
              "  <style>\n",
              "    .colab-df-container {\n",
              "      display:flex;\n",
              "      flex-wrap:wrap;\n",
              "      gap: 12px;\n",
              "    }\n",
              "\n",
              "    .colab-df-convert {\n",
              "      background-color: #E8F0FE;\n",
              "      border: none;\n",
              "      border-radius: 50%;\n",
              "      cursor: pointer;\n",
              "      display: none;\n",
              "      fill: #1967D2;\n",
              "      height: 32px;\n",
              "      padding: 0 0 0 0;\n",
              "      width: 32px;\n",
              "    }\n",
              "\n",
              "    .colab-df-convert:hover {\n",
              "      background-color: #E2EBFA;\n",
              "      box-shadow: 0px 1px 2px rgba(60, 64, 67, 0.3), 0px 1px 3px 1px rgba(60, 64, 67, 0.15);\n",
              "      fill: #174EA6;\n",
              "    }\n",
              "\n",
              "    [theme=dark] .colab-df-convert {\n",
              "      background-color: #3B4455;\n",
              "      fill: #D2E3FC;\n",
              "    }\n",
              "\n",
              "    [theme=dark] .colab-df-convert:hover {\n",
              "      background-color: #434B5C;\n",
              "      box-shadow: 0px 1px 3px 1px rgba(0, 0, 0, 0.15);\n",
              "      filter: drop-shadow(0px 1px 2px rgba(0, 0, 0, 0.3));\n",
              "      fill: #FFFFFF;\n",
              "    }\n",
              "  </style>\n",
              "\n",
              "      <script>\n",
              "        const buttonEl =\n",
              "          document.querySelector('#df-2afd1754-35f5-48a3-b1b4-a02586c86321 button.colab-df-convert');\n",
              "        buttonEl.style.display =\n",
              "          google.colab.kernel.accessAllowed ? 'block' : 'none';\n",
              "\n",
              "        async function convertToInteractive(key) {\n",
              "          const element = document.querySelector('#df-2afd1754-35f5-48a3-b1b4-a02586c86321');\n",
              "          const dataTable =\n",
              "            await google.colab.kernel.invokeFunction('convertToInteractive',\n",
              "                                                     [key], {});\n",
              "          if (!dataTable) return;\n",
              "\n",
              "          const docLinkHtml = 'Like what you see? Visit the ' +\n",
              "            '<a target=\"_blank\" href=https://colab.research.google.com/notebooks/data_table.ipynb>data table notebook</a>'\n",
              "            + ' to learn more about interactive tables.';\n",
              "          element.innerHTML = '';\n",
              "          dataTable['output_type'] = 'display_data';\n",
              "          await google.colab.output.renderOutput(dataTable, element);\n",
              "          const docLink = document.createElement('div');\n",
              "          docLink.innerHTML = docLinkHtml;\n",
              "          element.appendChild(docLink);\n",
              "        }\n",
              "      </script>\n",
              "    </div>\n",
              "  </div>\n",
              "  "
            ]
          },
          "metadata": {},
          "execution_count": 3
        }
      ]
    },
    {
      "cell_type": "markdown",
      "source": [
        "cleaning"
      ],
      "metadata": {
        "id": "-_HyvQYJXOyR"
      }
    },
    {
      "cell_type": "code",
      "source": [
        "data.eng = data.eng.apply(lambda x : x.lower())\n",
        "data.ind = data.ind.apply(lambda x : x.lower())"
      ],
      "metadata": {
        "id": "1jasw_ITXPcu"
      },
      "execution_count": 4,
      "outputs": []
    },
    {
      "cell_type": "code",
      "source": [
        "data.head()"
      ],
      "metadata": {
        "colab": {
          "base_uri": "https://localhost:8080/",
          "height": 206
        },
        "id": "fMOj8iIyXlQj",
        "outputId": "7f4d28d4-388d-48b4-fd7b-2ecc6c768af5"
      },
      "execution_count": 5,
      "outputs": [
        {
          "output_type": "execute_result",
          "data": {
            "text/plain": [
              "     eng      ind\n",
              "0   run!    lari!\n",
              "1   who?   siapa?\n",
              "2   wow!     wow!\n",
              "3  help!  tolong!\n",
              "4  jump!  lompat!"
            ],
            "text/html": [
              "\n",
              "  <div id=\"df-dea0c49d-eda5-4ce4-9079-d5fd72c9109c\">\n",
              "    <div class=\"colab-df-container\">\n",
              "      <div>\n",
              "<style scoped>\n",
              "    .dataframe tbody tr th:only-of-type {\n",
              "        vertical-align: middle;\n",
              "    }\n",
              "\n",
              "    .dataframe tbody tr th {\n",
              "        vertical-align: top;\n",
              "    }\n",
              "\n",
              "    .dataframe thead th {\n",
              "        text-align: right;\n",
              "    }\n",
              "</style>\n",
              "<table border=\"1\" class=\"dataframe\">\n",
              "  <thead>\n",
              "    <tr style=\"text-align: right;\">\n",
              "      <th></th>\n",
              "      <th>eng</th>\n",
              "      <th>ind</th>\n",
              "    </tr>\n",
              "  </thead>\n",
              "  <tbody>\n",
              "    <tr>\n",
              "      <th>0</th>\n",
              "      <td>run!</td>\n",
              "      <td>lari!</td>\n",
              "    </tr>\n",
              "    <tr>\n",
              "      <th>1</th>\n",
              "      <td>who?</td>\n",
              "      <td>siapa?</td>\n",
              "    </tr>\n",
              "    <tr>\n",
              "      <th>2</th>\n",
              "      <td>wow!</td>\n",
              "      <td>wow!</td>\n",
              "    </tr>\n",
              "    <tr>\n",
              "      <th>3</th>\n",
              "      <td>help!</td>\n",
              "      <td>tolong!</td>\n",
              "    </tr>\n",
              "    <tr>\n",
              "      <th>4</th>\n",
              "      <td>jump!</td>\n",
              "      <td>lompat!</td>\n",
              "    </tr>\n",
              "  </tbody>\n",
              "</table>\n",
              "</div>\n",
              "      <button class=\"colab-df-convert\" onclick=\"convertToInteractive('df-dea0c49d-eda5-4ce4-9079-d5fd72c9109c')\"\n",
              "              title=\"Convert this dataframe to an interactive table.\"\n",
              "              style=\"display:none;\">\n",
              "        \n",
              "  <svg xmlns=\"http://www.w3.org/2000/svg\" height=\"24px\"viewBox=\"0 0 24 24\"\n",
              "       width=\"24px\">\n",
              "    <path d=\"M0 0h24v24H0V0z\" fill=\"none\"/>\n",
              "    <path d=\"M18.56 5.44l.94 2.06.94-2.06 2.06-.94-2.06-.94-.94-2.06-.94 2.06-2.06.94zm-11 1L8.5 8.5l.94-2.06 2.06-.94-2.06-.94L8.5 2.5l-.94 2.06-2.06.94zm10 10l.94 2.06.94-2.06 2.06-.94-2.06-.94-.94-2.06-.94 2.06-2.06.94z\"/><path d=\"M17.41 7.96l-1.37-1.37c-.4-.4-.92-.59-1.43-.59-.52 0-1.04.2-1.43.59L10.3 9.45l-7.72 7.72c-.78.78-.78 2.05 0 2.83L4 21.41c.39.39.9.59 1.41.59.51 0 1.02-.2 1.41-.59l7.78-7.78 2.81-2.81c.8-.78.8-2.07 0-2.86zM5.41 20L4 18.59l7.72-7.72 1.47 1.35L5.41 20z\"/>\n",
              "  </svg>\n",
              "      </button>\n",
              "      \n",
              "  <style>\n",
              "    .colab-df-container {\n",
              "      display:flex;\n",
              "      flex-wrap:wrap;\n",
              "      gap: 12px;\n",
              "    }\n",
              "\n",
              "    .colab-df-convert {\n",
              "      background-color: #E8F0FE;\n",
              "      border: none;\n",
              "      border-radius: 50%;\n",
              "      cursor: pointer;\n",
              "      display: none;\n",
              "      fill: #1967D2;\n",
              "      height: 32px;\n",
              "      padding: 0 0 0 0;\n",
              "      width: 32px;\n",
              "    }\n",
              "\n",
              "    .colab-df-convert:hover {\n",
              "      background-color: #E2EBFA;\n",
              "      box-shadow: 0px 1px 2px rgba(60, 64, 67, 0.3), 0px 1px 3px 1px rgba(60, 64, 67, 0.15);\n",
              "      fill: #174EA6;\n",
              "    }\n",
              "\n",
              "    [theme=dark] .colab-df-convert {\n",
              "      background-color: #3B4455;\n",
              "      fill: #D2E3FC;\n",
              "    }\n",
              "\n",
              "    [theme=dark] .colab-df-convert:hover {\n",
              "      background-color: #434B5C;\n",
              "      box-shadow: 0px 1px 3px 1px rgba(0, 0, 0, 0.15);\n",
              "      filter: drop-shadow(0px 1px 2px rgba(0, 0, 0, 0.3));\n",
              "      fill: #FFFFFF;\n",
              "    }\n",
              "  </style>\n",
              "\n",
              "      <script>\n",
              "        const buttonEl =\n",
              "          document.querySelector('#df-dea0c49d-eda5-4ce4-9079-d5fd72c9109c button.colab-df-convert');\n",
              "        buttonEl.style.display =\n",
              "          google.colab.kernel.accessAllowed ? 'block' : 'none';\n",
              "\n",
              "        async function convertToInteractive(key) {\n",
              "          const element = document.querySelector('#df-dea0c49d-eda5-4ce4-9079-d5fd72c9109c');\n",
              "          const dataTable =\n",
              "            await google.colab.kernel.invokeFunction('convertToInteractive',\n",
              "                                                     [key], {});\n",
              "          if (!dataTable) return;\n",
              "\n",
              "          const docLinkHtml = 'Like what you see? Visit the ' +\n",
              "            '<a target=\"_blank\" href=https://colab.research.google.com/notebooks/data_table.ipynb>data table notebook</a>'\n",
              "            + ' to learn more about interactive tables.';\n",
              "          element.innerHTML = '';\n",
              "          dataTable['output_type'] = 'display_data';\n",
              "          await google.colab.output.renderOutput(dataTable, element);\n",
              "          const docLink = document.createElement('div');\n",
              "          docLink.innerHTML = docLinkHtml;\n",
              "          element.appendChild(docLink);\n",
              "        }\n",
              "      </script>\n",
              "    </div>\n",
              "  </div>\n",
              "  "
            ]
          },
          "metadata": {},
          "execution_count": 5
        }
      ]
    },
    {
      "cell_type": "code",
      "source": [
        "string.punctuation"
      ],
      "metadata": {
        "colab": {
          "base_uri": "https://localhost:8080/",
          "height": 35
        },
        "id": "GQElQ8GVYaDG",
        "outputId": "e1615164-63e3-4f56-aad5-1cab0f9cad38"
      },
      "execution_count": 6,
      "outputs": [
        {
          "output_type": "execute_result",
          "data": {
            "text/plain": [
              "'!\"#$%&\\'()*+,-./:;<=>?@[\\\\]^_`{|}~'"
            ],
            "application/vnd.google.colaboratory.intrinsic+json": {
              "type": "string"
            }
          },
          "metadata": {},
          "execution_count": 6
        }
      ]
    },
    {
      "cell_type": "code",
      "source": [
        "data.eng = data.eng.apply(lambda x : x.translate(str.maketrans('', '', string.punctuation)))\n",
        "data.ind = data.ind.apply(lambda x : x.translate(str.maketrans('', '', string.punctuation)))"
      ],
      "metadata": {
        "id": "znKia8kvYvuJ"
      },
      "execution_count": 7,
      "outputs": []
    },
    {
      "cell_type": "code",
      "source": [
        "data.eng = data.eng.apply(lambda x : re.sub(\"'\",\"\",x))\n",
        "data.ind = data.ind.apply(lambda x : re.sub(\"'\",\"\",x))"
      ],
      "metadata": {
        "id": "oMjEOCfBY_rL"
      },
      "execution_count": 8,
      "outputs": []
    },
    {
      "cell_type": "code",
      "source": [
        "data.eng = data.eng.apply(lambda x : re.sub(r'[0-9]+','',x))\n",
        "data.ind = data.ind.apply(lambda x : re.sub(r'[0-9]+','',x))"
      ],
      "metadata": {
        "id": "j0KbgvohZIVE"
      },
      "execution_count": 9,
      "outputs": []
    },
    {
      "cell_type": "code",
      "source": [
        "data"
      ],
      "metadata": {
        "colab": {
          "base_uri": "https://localhost:8080/",
          "height": 424
        },
        "id": "k-mr6AoqZK2d",
        "outputId": "1a511ad0-9fa3-4667-9038-46382afcb37d"
      },
      "execution_count": 10,
      "outputs": [
        {
          "output_type": "execute_result",
          "data": {
            "text/plain": [
              "                                                    eng  \\\n",
              "0                                                   run   \n",
              "1                                                   who   \n",
              "2                                                   wow   \n",
              "3                                                  help   \n",
              "4                                                  jump   \n",
              "...                                                 ...   \n",
              "8504  every student who has graduated from our unive...   \n",
              "8505  if you dont want to put on sunscreen thats you...   \n",
              "8506  when she was finished ironing mary switched of...   \n",
              "8507  irene pepperberg a researcher at northwestern ...   \n",
              "8508  if a person has not had a chance to acquire hi...   \n",
              "\n",
              "                                                    ind  \n",
              "0                                                  lari  \n",
              "1                                                 siapa  \n",
              "2                                                   wow  \n",
              "3                                                tolong  \n",
              "4                                                lompat  \n",
              "...                                                 ...  \n",
              "8504  semua mahasiswa yang telah menyelesaikan studi...  \n",
              "8505  kalau kamu tidak mau pakai tabir surya ya ters...  \n",
              "8506  ketika dia sudah selesai menyetrika mary memat...  \n",
              "8507  irene pepperberg seorang peneliti di universit...  \n",
              "8508  jika seseorang tidak berkesempatan untuk mengu...  \n",
              "\n",
              "[8509 rows x 2 columns]"
            ],
            "text/html": [
              "\n",
              "  <div id=\"df-2282d0a3-e67c-420e-b7f8-0fde14255767\">\n",
              "    <div class=\"colab-df-container\">\n",
              "      <div>\n",
              "<style scoped>\n",
              "    .dataframe tbody tr th:only-of-type {\n",
              "        vertical-align: middle;\n",
              "    }\n",
              "\n",
              "    .dataframe tbody tr th {\n",
              "        vertical-align: top;\n",
              "    }\n",
              "\n",
              "    .dataframe thead th {\n",
              "        text-align: right;\n",
              "    }\n",
              "</style>\n",
              "<table border=\"1\" class=\"dataframe\">\n",
              "  <thead>\n",
              "    <tr style=\"text-align: right;\">\n",
              "      <th></th>\n",
              "      <th>eng</th>\n",
              "      <th>ind</th>\n",
              "    </tr>\n",
              "  </thead>\n",
              "  <tbody>\n",
              "    <tr>\n",
              "      <th>0</th>\n",
              "      <td>run</td>\n",
              "      <td>lari</td>\n",
              "    </tr>\n",
              "    <tr>\n",
              "      <th>1</th>\n",
              "      <td>who</td>\n",
              "      <td>siapa</td>\n",
              "    </tr>\n",
              "    <tr>\n",
              "      <th>2</th>\n",
              "      <td>wow</td>\n",
              "      <td>wow</td>\n",
              "    </tr>\n",
              "    <tr>\n",
              "      <th>3</th>\n",
              "      <td>help</td>\n",
              "      <td>tolong</td>\n",
              "    </tr>\n",
              "    <tr>\n",
              "      <th>4</th>\n",
              "      <td>jump</td>\n",
              "      <td>lompat</td>\n",
              "    </tr>\n",
              "    <tr>\n",
              "      <th>...</th>\n",
              "      <td>...</td>\n",
              "      <td>...</td>\n",
              "    </tr>\n",
              "    <tr>\n",
              "      <th>8504</th>\n",
              "      <td>every student who has graduated from our unive...</td>\n",
              "      <td>semua mahasiswa yang telah menyelesaikan studi...</td>\n",
              "    </tr>\n",
              "    <tr>\n",
              "      <th>8505</th>\n",
              "      <td>if you dont want to put on sunscreen thats you...</td>\n",
              "      <td>kalau kamu tidak mau pakai tabir surya ya ters...</td>\n",
              "    </tr>\n",
              "    <tr>\n",
              "      <th>8506</th>\n",
              "      <td>when she was finished ironing mary switched of...</td>\n",
              "      <td>ketika dia sudah selesai menyetrika mary memat...</td>\n",
              "    </tr>\n",
              "    <tr>\n",
              "      <th>8507</th>\n",
              "      <td>irene pepperberg a researcher at northwestern ...</td>\n",
              "      <td>irene pepperberg seorang peneliti di universit...</td>\n",
              "    </tr>\n",
              "    <tr>\n",
              "      <th>8508</th>\n",
              "      <td>if a person has not had a chance to acquire hi...</td>\n",
              "      <td>jika seseorang tidak berkesempatan untuk mengu...</td>\n",
              "    </tr>\n",
              "  </tbody>\n",
              "</table>\n",
              "<p>8509 rows × 2 columns</p>\n",
              "</div>\n",
              "      <button class=\"colab-df-convert\" onclick=\"convertToInteractive('df-2282d0a3-e67c-420e-b7f8-0fde14255767')\"\n",
              "              title=\"Convert this dataframe to an interactive table.\"\n",
              "              style=\"display:none;\">\n",
              "        \n",
              "  <svg xmlns=\"http://www.w3.org/2000/svg\" height=\"24px\"viewBox=\"0 0 24 24\"\n",
              "       width=\"24px\">\n",
              "    <path d=\"M0 0h24v24H0V0z\" fill=\"none\"/>\n",
              "    <path d=\"M18.56 5.44l.94 2.06.94-2.06 2.06-.94-2.06-.94-.94-2.06-.94 2.06-2.06.94zm-11 1L8.5 8.5l.94-2.06 2.06-.94-2.06-.94L8.5 2.5l-.94 2.06-2.06.94zm10 10l.94 2.06.94-2.06 2.06-.94-2.06-.94-.94-2.06-.94 2.06-2.06.94z\"/><path d=\"M17.41 7.96l-1.37-1.37c-.4-.4-.92-.59-1.43-.59-.52 0-1.04.2-1.43.59L10.3 9.45l-7.72 7.72c-.78.78-.78 2.05 0 2.83L4 21.41c.39.39.9.59 1.41.59.51 0 1.02-.2 1.41-.59l7.78-7.78 2.81-2.81c.8-.78.8-2.07 0-2.86zM5.41 20L4 18.59l7.72-7.72 1.47 1.35L5.41 20z\"/>\n",
              "  </svg>\n",
              "      </button>\n",
              "      \n",
              "  <style>\n",
              "    .colab-df-container {\n",
              "      display:flex;\n",
              "      flex-wrap:wrap;\n",
              "      gap: 12px;\n",
              "    }\n",
              "\n",
              "    .colab-df-convert {\n",
              "      background-color: #E8F0FE;\n",
              "      border: none;\n",
              "      border-radius: 50%;\n",
              "      cursor: pointer;\n",
              "      display: none;\n",
              "      fill: #1967D2;\n",
              "      height: 32px;\n",
              "      padding: 0 0 0 0;\n",
              "      width: 32px;\n",
              "    }\n",
              "\n",
              "    .colab-df-convert:hover {\n",
              "      background-color: #E2EBFA;\n",
              "      box-shadow: 0px 1px 2px rgba(60, 64, 67, 0.3), 0px 1px 3px 1px rgba(60, 64, 67, 0.15);\n",
              "      fill: #174EA6;\n",
              "    }\n",
              "\n",
              "    [theme=dark] .colab-df-convert {\n",
              "      background-color: #3B4455;\n",
              "      fill: #D2E3FC;\n",
              "    }\n",
              "\n",
              "    [theme=dark] .colab-df-convert:hover {\n",
              "      background-color: #434B5C;\n",
              "      box-shadow: 0px 1px 3px 1px rgba(0, 0, 0, 0.15);\n",
              "      filter: drop-shadow(0px 1px 2px rgba(0, 0, 0, 0.3));\n",
              "      fill: #FFFFFF;\n",
              "    }\n",
              "  </style>\n",
              "\n",
              "      <script>\n",
              "        const buttonEl =\n",
              "          document.querySelector('#df-2282d0a3-e67c-420e-b7f8-0fde14255767 button.colab-df-convert');\n",
              "        buttonEl.style.display =\n",
              "          google.colab.kernel.accessAllowed ? 'block' : 'none';\n",
              "\n",
              "        async function convertToInteractive(key) {\n",
              "          const element = document.querySelector('#df-2282d0a3-e67c-420e-b7f8-0fde14255767');\n",
              "          const dataTable =\n",
              "            await google.colab.kernel.invokeFunction('convertToInteractive',\n",
              "                                                     [key], {});\n",
              "          if (!dataTable) return;\n",
              "\n",
              "          const docLinkHtml = 'Like what you see? Visit the ' +\n",
              "            '<a target=\"_blank\" href=https://colab.research.google.com/notebooks/data_table.ipynb>data table notebook</a>'\n",
              "            + ' to learn more about interactive tables.';\n",
              "          element.innerHTML = '';\n",
              "          dataTable['output_type'] = 'display_data';\n",
              "          await google.colab.output.renderOutput(dataTable, element);\n",
              "          const docLink = document.createElement('div');\n",
              "          docLink.innerHTML = docLinkHtml;\n",
              "          element.appendChild(docLink);\n",
              "        }\n",
              "      </script>\n",
              "    </div>\n",
              "  </div>\n",
              "  "
            ]
          },
          "metadata": {},
          "execution_count": 10
        }
      ]
    },
    {
      "cell_type": "code",
      "source": [
        "data.eng = data.eng.apply(lambda x : 'START '+ x + ' END')\n",
        "data.ind = data.ind.apply(lambda x : 'START '+ x + ' END')"
      ],
      "metadata": {
        "id": "nsd_5XYhoXfk"
      },
      "execution_count": 11,
      "outputs": []
    },
    {
      "cell_type": "code",
      "source": [
        "maxenLan = max(data.eng.apply(lambda x : len(x.split())).tolist())\n",
        "maxinLan = max(data.ind.apply(lambda x : len(x.split())).tolist())"
      ],
      "metadata": {
        "id": "ntyOKOdPrWck"
      },
      "execution_count": 12,
      "outputs": []
    },
    {
      "cell_type": "code",
      "source": [
        "print(maxenLan,maxinLan)"
      ],
      "metadata": {
        "colab": {
          "base_uri": "https://localhost:8080/"
        },
        "id": "lC3zAoO4r8Bx",
        "outputId": "8d45a189-75e9-4728-dd01-d5e7e647f5f6"
      },
      "execution_count": 13,
      "outputs": [
        {
          "output_type": "stream",
          "name": "stdout",
          "text": [
            "34 27\n"
          ]
        }
      ]
    },
    {
      "cell_type": "code",
      "source": [
        "maxfiturEn = set()\n",
        "maxfiturIn = set()"
      ],
      "metadata": {
        "id": "PGU0i8J8sMLg"
      },
      "execution_count": 14,
      "outputs": []
    },
    {
      "cell_type": "code",
      "source": [
        "maxfiturEn"
      ],
      "metadata": {
        "colab": {
          "base_uri": "https://localhost:8080/"
        },
        "id": "PFSm-q1ss4Tm",
        "outputId": "be89e2c1-8785-4b13-b388-6870bb534ceb"
      },
      "execution_count": 15,
      "outputs": [
        {
          "output_type": "execute_result",
          "data": {
            "text/plain": [
              "set()"
            ]
          },
          "metadata": {},
          "execution_count": 15
        }
      ]
    },
    {
      "cell_type": "code",
      "source": [
        "data.eng.str.split().apply(maxfiturEn.update)"
      ],
      "metadata": {
        "colab": {
          "base_uri": "https://localhost:8080/"
        },
        "id": "WrxrU_C3sX_o",
        "outputId": "2ec20968-4783-4a08-cd30-29b2c7c06867"
      },
      "execution_count": 16,
      "outputs": [
        {
          "output_type": "execute_result",
          "data": {
            "text/plain": [
              "0       None\n",
              "1       None\n",
              "2       None\n",
              "3       None\n",
              "4       None\n",
              "        ... \n",
              "8504    None\n",
              "8505    None\n",
              "8506    None\n",
              "8507    None\n",
              "8508    None\n",
              "Name: eng, Length: 8509, dtype: object"
            ]
          },
          "metadata": {},
          "execution_count": 16
        }
      ]
    },
    {
      "cell_type": "code",
      "source": [
        "data.ind.str.split().apply(maxfiturIn.update)"
      ],
      "metadata": {
        "colab": {
          "base_uri": "https://localhost:8080/"
        },
        "id": "aho_el5Ps6tn",
        "outputId": "b441fbd4-10ab-4539-f31c-7679a678060b"
      },
      "execution_count": 17,
      "outputs": [
        {
          "output_type": "execute_result",
          "data": {
            "text/plain": [
              "0       None\n",
              "1       None\n",
              "2       None\n",
              "3       None\n",
              "4       None\n",
              "        ... \n",
              "8504    None\n",
              "8505    None\n",
              "8506    None\n",
              "8507    None\n",
              "8508    None\n",
              "Name: ind, Length: 8509, dtype: object"
            ]
          },
          "metadata": {},
          "execution_count": 17
        }
      ]
    },
    {
      "cell_type": "code",
      "source": [
        "lenVocabEn = len(maxfiturEn)\n",
        "lenVocabIn = len(maxfiturIn)"
      ],
      "metadata": {
        "id": "483qrmSis_fi"
      },
      "execution_count": 18,
      "outputs": []
    },
    {
      "cell_type": "code",
      "source": [
        "print(lenVocabEn,lenVocabIn)"
      ],
      "metadata": {
        "colab": {
          "base_uri": "https://localhost:8080/"
        },
        "id": "LQalpdcStICq",
        "outputId": "99440eb4-8c0d-4568-abe2-675c835aebc2"
      },
      "execution_count": 19,
      "outputs": [
        {
          "output_type": "stream",
          "name": "stdout",
          "text": [
            "3986 4820\n"
          ]
        }
      ]
    },
    {
      "cell_type": "code",
      "source": [
        "tokenizerIn = Tokenizer(num_words= lenVocabIn, oov_token='-')\n",
        "tokenizerEn = Tokenizer(num_words= lenVocabEn, oov_token='-')"
      ],
      "metadata": {
        "id": "a32pGKgtVV-M"
      },
      "execution_count": 20,
      "outputs": []
    },
    {
      "cell_type": "code",
      "source": [
        "tokenizerIn.fit_on_texts(data.ind.values)\n",
        "tokenizerEn.fit_on_texts(data.eng.values)"
      ],
      "metadata": {
        "id": "7VxaVcmaVjn4"
      },
      "execution_count": 21,
      "outputs": []
    },
    {
      "cell_type": "code",
      "source": [
        "datain = tokenizerIn.texts_to_sequences(data.ind.values)\n",
        "dataeng = tokenizerEn.texts_to_sequences(data.eng.values)"
      ],
      "metadata": {
        "id": "xmqtBWgCWBTE"
      },
      "execution_count": 22,
      "outputs": []
    },
    {
      "cell_type": "code",
      "source": [
        "XX = pad_sequences(dataeng,padding='post')\n",
        "YY = pad_sequences(datain,padding='post')"
      ],
      "metadata": {
        "id": "UxxuKxLhWalA"
      },
      "execution_count": 79,
      "outputs": []
    },
    {
      "cell_type": "code",
      "source": [
        "tes = tokenizerEn.texts_to_sequences(np.array(['START you are my cup of tea END']))"
      ],
      "metadata": {
        "id": "CqHU7nuN9Zrq"
      },
      "execution_count": 187,
      "outputs": []
    },
    {
      "cell_type": "code",
      "source": [
        "tes = pad_sequences(tes,padding='post',maxlen=maxenLan)"
      ],
      "metadata": {
        "id": "ktb3urSm99YS"
      },
      "execution_count": 193,
      "outputs": []
    },
    {
      "cell_type": "code",
      "source": [
        "tes.shape"
      ],
      "metadata": {
        "colab": {
          "base_uri": "https://localhost:8080/"
        },
        "id": "fRLiYy0K-BuI",
        "outputId": "2d388d63-08f8-4f54-8cd6-41aa7fc49aec"
      },
      "execution_count": 194,
      "outputs": [
        {
          "output_type": "execute_result",
          "data": {
            "text/plain": [
              "(1, 34)"
            ]
          },
          "metadata": {},
          "execution_count": 194
        }
      ]
    },
    {
      "cell_type": "code",
      "source": [
        "tokenizerEn.word_index.items()"
      ],
      "metadata": {
        "colab": {
          "base_uri": "https://localhost:8080/"
        },
        "id": "hnNfGyFmXgat",
        "outputId": "484f74c4-9c04-488a-c8e9-3bb7f60f5e30"
      },
      "execution_count": 80,
      "outputs": [
        {
          "output_type": "execute_result",
          "data": {
            "text/plain": [
              "dict_items([('-', 1), ('start', 2), ('end', 3), ('you', 4), ('i', 5), ('the', 6), ('to', 7), ('tom', 8), ('is', 9), ('a', 10), ('do', 11), ('have', 12), ('this', 13), ('it', 14), ('that', 15), ('he', 16), ('of', 17), ('in', 18), ('was', 19), ('what', 20), ('dont', 21), ('my', 22), ('your', 23), ('me', 24), ('are', 25), ('im', 26), ('for', 27), ('be', 28), ('we', 29), ('like', 30), ('not', 31), ('on', 32), ('want', 33), ('with', 34), ('his', 35), ('can', 36), ('mary', 37), ('at', 38), ('go', 39), ('know', 40), ('how', 41), ('did', 42), ('and', 43), ('she', 44), ('has', 45), ('time', 46), ('about', 47), ('think', 48), ('its', 49), ('here', 50), ('cant', 51), ('very', 52), ('there', 53), ('were', 54), ('will', 55), ('where', 56), ('when', 57), ('been', 58), ('up', 59), ('please', 60), ('him', 61), ('ill', 62), ('all', 63), ('going', 64), ('out', 65), ('didnt', 66), ('had', 67), ('why', 68), ('come', 69), ('just', 70), ('get', 71), ('as', 72), ('see', 73), ('one', 74), ('if', 75), ('they', 76), ('by', 77), ('youre', 78), ('no', 79), ('who', 80), ('need', 81), ('an', 82), ('would', 83), ('should', 84), ('from', 85), ('her', 86), ('good', 87), ('help', 88), ('home', 89), ('more', 90), ('doesnt', 91), ('lets', 92), ('ive', 93), ('could', 94), ('now', 95), ('than', 96), ('so', 97), ('still', 98), ('any', 99), ('thats', 100), ('room', 101), ('anything', 102), ('never', 103), ('car', 104), ('really', 105), ('back', 106), ('something', 107), ('much', 108), ('isnt', 109), ('take', 110), ('tell', 111), ('eat', 112), ('us', 113), ('am', 114), ('toms', 115), ('say', 116), ('right', 117), ('got', 118), ('may', 119), ('our', 120), ('three', 121), ('too', 122), ('down', 123), ('whats', 124), ('must', 125), ('day', 126), ('hes', 127), ('money', 128), ('house', 129), ('told', 130), ('long', 131), ('only', 132), ('work', 133), ('people', 134), ('give', 135), ('lot', 136), ('make', 137), ('but', 138), ('let', 139), ('some', 140), ('last', 141), ('well', 142), ('look', 143), ('does', 144), ('off', 145), ('said', 146), ('way', 147), ('read', 148), ('boston', 149), ('school', 150), ('book', 151), ('wont', 152), ('yesterday', 153), ('again', 154), ('left', 155), ('made', 156), ('always', 157), ('better', 158), ('ever', 159), ('sure', 160), ('many', 161), ('leave', 162), ('years', 163), ('buy', 164), ('today', 165), ('tomorrow', 166), ('little', 167), ('went', 168), ('looks', 169), ('drink', 170), ('doing', 171), ('love', 172), ('two', 173), ('old', 174), ('speak', 175), ('problem', 176), ('father', 177), ('live', 178), ('every', 179), ('wanted', 180), ('job', 181), ('over', 182), ('alone', 183), ('saw', 184), ('train', 185), ('before', 186), ('stay', 187), ('happy', 188), ('wait', 189), ('yet', 190), ('feel', 191), ('everything', 192), ('french', 193), ('stop', 194), ('play', 195), ('late', 196), ('id', 197), ('next', 198), ('sleep', 199), ('enough', 200), ('wasnt', 201), ('put', 202), ('station', 203), ('done', 204), ('new', 205), ('already', 206), ('tired', 207), ('brother', 208), ('into', 209), ('children', 210), ('after', 211), ('night', 212), ('eating', 213), ('hard', 214), ('traffic', 215), ('turn', 216), ('life', 217), ('english', 218), ('food', 219), ('ask', 220), ('keep', 221), ('door', 222), ('name', 223), ('took', 224), ('believe', 225), ('thought', 226), ('find', 227), ('wrong', 228), ('friends', 229), ('used', 230), ('probably', 231), ('even', 232), ('anymore', 233), ('seen', 234), ('meeting', 235), ('or', 236), ('tried', 237), ('cold', 238), ('talk', 239), ('morning', 240), ('use', 241), ('happened', 242), ('afraid', 243), ('havent', 244), ('hope', 245), ('knows', 246), ('because', 247), ('try', 248), ('often', 249), ('mother', 250), ('remember', 251), ('able', 252), ('first', 253), ('understand', 254), ('which', 255), ('these', 256), ('call', 257), ('theres', 258), ('weve', 259), ('marys', 260), ('answer', 261), ('man', 262), ('true', 263), ('rain', 264), ('best', 265), ('bus', 266), ('doctor', 267), ('likes', 268), ('asked', 269), ('world', 270), ('himself', 271), ('soon', 272), ('hungry', 273), ('birthday', 274), ('came', 275), ('student', 276), ('water', 277), ('bought', 278), ('other', 279), ('open', 280), ('away', 281), ('met', 282), ('nothing', 283), ('dinner', 284), ('youd', 285), ('looking', 286), ('without', 287), ('big', 288), ('meet', 289), ('seems', 290), ('angry', 291), ('happen', 292), ('lost', 293), ('yourself', 294), ('week', 295), ('getting', 296), ('coffee', 297), ('fun', 298), ('study', 299), ('friend', 300), ('early', 301), ('music', 302), ('busy', 303), ('waiting', 304), ('lunch', 305), ('says', 306), ('wants', 307), ('trust', 308), ('needs', 309), ('young', 310), ('bad', 311), ('change', 312), ('dog', 313), ('wish', 314), ('everyone', 315), ('parents', 316), ('same', 317), ('couldnt', 318), ('finished', 319), ('longer', 320), ('favorite', 321), ('summer', 322), ('their', 323), ('watch', 324), ('sick', 325), ('ready', 326), ('rice', 327), ('heard', 328), ('beautiful', 329), ('bicycle', 330), ('hear', 331), ('teacher', 332), ('letter', 333), ('thing', 334), ('might', 335), ('japan', 336), ('hurry', 337), ('thanks', 338), ('ok', 339), ('red', 340), ('shes', 341), ('things', 342), ('both', 343), ('nobody', 344), ('being', 345), ('books', 346), ('kind', 347), ('ten', 348), ('arrived', 349), ('arent', 350), ('sorry', 351), ('them', 352), ('looked', 353), ('phone', 354), ('wheres', 355), ('girl', 356), ('table', 357), ('question', 358), ('eaten', 359), ('ago', 360), ('place', 361), ('playing', 362), ('knew', 363), ('mind', 364), ('while', 365), ('most', 366), ('until', 367), ('show', 368), ('forget', 369), ('later', 370), ('mine', 371), ('party', 372), ('cat', 373), ('youll', 374), ('few', 375), ('having', 376), ('those', 377), ('died', 378), ('another', 379), ('makes', 380), ('die', 381), ('mean', 382), ('thank', 383), ('swim', 384), ('else', 385), ('son', 386), ('year', 387), ('almost', 388), ('married', 389), ('working', 390), ('talking', 391), ('plan', 392), ('everybody', 393), ('matter', 394), ('truth', 395), ('once', 396), ('students', 397), ('accident', 398), ('wouldnt', 399), ('someone', 400), ('movie', 401), ('hours', 402), ('days', 403), ('agree', 404), ('coming', 405), ('care', 406), ('trying', 407), ('wife', 408), ('caught', 409), ('hands', 410), ('pay', 411), ('own', 412), ('gave', 413), ('hasnt', 414), ('around', 415), ('learn', 416), ('shouldnt', 417), ('each', 418), ('minutes', 419), ('since', 420), ('whose', 421), ('bed', 422), ('drive', 423), ('ran', 424), ('smoking', 425), ('sit', 426), ('cats', 427), ('person', 428), ('reading', 429), ('hurt', 430), ('free', 431), ('leaving', 432), ('nice', 433), ('found', 434), ('famous', 435), ('quite', 436), ('walk', 437), ('paper', 438), ('sister', 439), ('radio', 440), ('family', 441), ('closed', 442), ('youve', 443), ('breakfast', 444), ('abroad', 445), ('mistake', 446), ('picture', 447), ('office', 448), ('desk', 449), ('exactly', 450), ('glad', 451), ('australia', 452), ('city', 453), ('idea', 454), ('light', 455), ('difficult', 456), ('times', 457), ('cut', 458), ('kidding', 459), ('wine', 460), ('eight', 461), ('baby', 462), ('important', 463), ('hot', 464), ('kept', 465), ('anyone', 466), ('trouble', 467), ('hair', 468), ('hobby', 469), ('theyre', 470), ('shoes', 471), ('turned', 472), ('tv', 473), ('usually', 474), ('island', 475), ('jam', 476), ('monday', 477), ('street', 478), ('advice', 479), ('japanese', 480), ('across', 481), ('road', 482), ('weather', 483), ('pass', 484), ('oclock', 485), ('month', 486), ('wonder', 487), ('run', 488), ('guys', 489), ('cry', 490), ('felt', 491), ('joke', 492), ('gone', 493), ('raining', 494), ('fast', 495), ('rules', 496), ('close', 497), ('confused', 498), ('bring', 499), ('forgot', 500), ('pretty', 501), ('child', 502), ('watching', 503), ('started', 504), ('under', 505), ('team', 506), ('write', 507), ('swimming', 508), ('small', 509), ('interesting', 510), ('country', 511), ('such', 512), ('shut', 513), ('whos', 514), ('hit', 515), ('careful', 516), ('joking', 517), ('seat', 518), ('great', 519), ('wear', 520), ('rather', 521), ('surprised', 522), ('hand', 523), ('far', 524), ('boy', 525), ('customs', 526), ('story', 527), ('store', 528), ('white', 529), ('anybody', 530), ('writing', 531), ('visit', 532), ('window', 533), ('guess', 534), ('lives', 535), ('seemed', 536), ('dark', 537), ('younger', 538), ('six', 539), ('hotel', 540), ('fell', 541), ('thinks', 542), ('together', 543), ('through', 544), ('interested', 545), ('wake', 546), ('stand', 547), ('clean', 548), ('ate', 549), ('smoke', 550), ('serious', 551), ('box', 552), ('questions', 553), ('apples', 554), ('asleep', 555), ('afternoon', 556), ('certain', 557), ('mistakes', 558), ('changed', 559), ('quit', 560), ('empty', 561), ('tonight', 562), ('gold', 563), ('stolen', 564), ('men', 565), ('broke', 566), ('eyes', 567), ('gets', 568), ('wearing', 569), ('expensive', 570), ('large', 571), ('decided', 572), ('saying', 573), ('television', 574), ('telling', 575), ('living', 576), ('homework', 577), ('number', 578), ('expect', 579), ('front', 580), ('listen', 581), ('hold', 582), ('stayed', 583), ('move', 584), ('then', 585), ('follow', 586), ('worry', 587), ('lie', 588), ('set', 589), ('crazy', 590), ('quiet', 591), ('works', 592), ('correct', 593), ('sleeping', 594), ('finish', 595), ('bag', 596), ('second', 597), ('cake', 598), ('astronomy', 599), ('song', 600), ('face', 601), ('sounds', 602), ('fire', 603), ('feeling', 604), ('maybe', 605), ('boss', 606), ('borrow', 607), ('guilty', 608), ('bank', 609), ('either', 610), ('paid', 611), ('sometimes', 612), ('novel', 613), ('whatever', 614), ('piano', 615), ('older', 616), ('camera', 617), ('hour', 618), ('tennis', 619), ('taller', 620), ('word', 621), ('cards', 622), ('shouldve', 623), ('knife', 624), ('months', 625), ('killed', 626), ('problems', 627), ('police', 628), ('floor', 629), ('language', 630), ('comes', 631), ('plane', 632), ('five', 633), ('river', 634), ('become', 635), ('trip', 636), ('attention', 637), ('drivers', 638), ('heavy', 639), ('dogs', 640), ('drunk', 641), ('fight', 642), ('easy', 643), ('fine', 644), ('check', 645), ('pen', 646), ('apple', 647), ('scared', 648), ('dream', 649), ('cheap', 650), ('safe', 651), ('count', 652), ('myself', 653), ('disappointed', 654), ('became', 655), ('liked', 656), ('earlier', 657), ('pizza', 658), ('bit', 659), ('completely', 660), ('age', 661), ('giving', 662), ('lose', 663), ('along', 664), ('sat', 665), ('dictionary', 666), ('drinking', 667), ('perhaps', 668), ('hell', 669), ('toilet', 670), ('began', 671), ('situation', 672), ('vacation', 673), ('class', 674), ('reason', 675), ('least', 676), ('address', 677), ('girlfriend', 678), ('weeks', 679), ('head', 680), ('company', 681), ('goes', 682), ('played', 683), ('park', 684), ('thirty', 685), ('present', 686), ('excuse', 687), ('known', 688), ('america', 689), ('during', 690), ('won', 691), ('hello', 692), ('miss', 693), ('blood', 694), ('injured', 695), ('strange', 696), ('driving', 697), ('cook', 698), ('shot', 699), ('lucky', 700), ('beauty', 701), ('passed', 702), ('loves', 703), ('helping', 704), ('funny', 705), ('tall', 706), ('town', 707), ('alive', 708), ('daughter', 709), ('fault', 710), ('seven', 711), ('high', 712), ('happens', 713), ('shop', 714), ('eye', 715), ('needed', 716), ('airport', 717), ('sky', 718), ('walked', 719), ('kitchen', 720), ('list', 721), ('outside', 722), ('speaking', 723), ('lived', 724), ('healthy', 725), ('waste', 726), ('bread', 727), ('suggest', 728), ('seem', 729), ('glass', 730), ('learning', 731), ('clothes', 732), ('flowers', 733), ('color', 734), ('catch', 735), ('decision', 736), ('different', 737), ('hundred', 738), ('standing', 739), ('museum', 740), ('promised', 741), ('spend', 742), ('picked', 743), ('worth', 744), ('weekend', 745), ('winter', 746), ('offer', 747), ('couple', 748), ('chance', 749), ('whether', 750), ('perfect', 751), ('smart', 752), ('boring', 753), ('rich', 754), ('fix', 755), ('blind', 756), ('touch', 757), ('eggs', 758), ('surfing', 759), ('glasses', 760), ('stupid', 761), ('moved', 762), ('lying', 763), ('crying', 764), ('point', 765), ('cars', 766), ('broken', 767), ('raise', 768), ('dangerous', 769), ('real', 770), ('intelligent', 771), ('roses', 772), ('coat', 773), ('worried', 774), ('france', 775), ('missed', 776), ('dead', 777), ('wall', 778), ('taxi', 779), ('half', 780), ('laugh', 781), ('chair', 782), ('lend', 783), ('beer', 784), ('ticket', 785), ('dad', 786), ('pleased', 787), ('business', 788), ('game', 789), ('shirt', 790), ('continued', 791), ('return', 792), ('secret', 793), ('milk', 794), ('beach', 795), ('nine', 796), ('bathroom', 797), ('save', 798), ('health', 799), ('sunday', 800), ('report', 801), ('hide', 802), ('paris', 803), ('test', 804), ('stairs', 805), ('recently', 806), ('fish', 807), ('given', 808), ('listening', 809), ('building', 810), ('air', 811), ('eats', 812), ('hed', 813), ('complaining', 814), ('rule', 815), ('actually', 816), ('brought', 817), ('studying', 818), ('cup', 819), ('library', 820), ('learned', 821), ('contact', 822), ('several', 823), ('goodbye', 824), ('hi', 825), ('bored', 826), ('sleepy', 827), ('weird', 828), ('also', 829), ('blue', 830), ('kid', 831), ('clear', 832), ('inside', 833), ('singing', 834), ('reasonable', 835), ('husband', 836), ('enjoy', 837), ('hows', 838), ('fly', 839), ('mom', 840), ('chocolate', 841), ('proud', 842), ('mad', 843), ('bill', 844), ('full', 845), ('whatll', 846), ('sing', 847), ('decide', 848), ('stood', 849), ('built', 850), ('information', 851), ('choice', 852), ('understands', 853), ('gloves', 854), ('called', 855), ('begin', 856), ('travel', 857), ('salt', 858), ('short', 859), ('order', 860), ('opened', 861), ('opinion', 862), ('join', 863), ('stick', 864), ('kill', 865), ('fishing', 866), ('locked', 867), ('computer', 868), ('stopped', 869), ('result', 870), ('takes', 871), ('easily', 872), ('speaks', 873), ('guitar', 874), ('dollars', 875), ('map', 876), ('umbrella', 877), ('happening', 878), ('bigger', 879), ('mouth', 880), ('future', 881), ('yen', 882), ('prefer', 883), ('mountains', 884), ('accustomed', 885), ('sports', 886), ('thinking', 887), ('ice', 888), ('lasted', 889), ('warm', 890), ('obey', 891), ('wedding', 892), ('delicious', 893), ('credit', 894), ('taking', 895), ('convince', 896), ('medicine', 897), ('tea', 898), ('worked', 899), ('painting', 900), ('movies', 901), ('university', 902), ('pretended', 903), ('letters', 904), ('explain', 905), ('schedule', 906), ('four', 907), ('realize', 908), ('past', 909), ('born', 910), ('lights', 911), ('sold', 912), ('snow', 913), ('sign', 914), ('mt', 915), ('fuji', 916), ('hospital', 917), ('followed', 918), ('caused', 919), ('black', 920), ('date', 921), ('program', 922), ('license', 923), ('similar', 924), ('john', 925), ('sense', 926), ('received', 927), ('prices', 928), ('side', 929), ('village', 930), ('smile', 931), ('sad', 932), ('welcome', 933), ('failed', 934), ('cool', 935), ('duty', 936), ('slowly', 937), ('win', 938), ('pity', 939), ('worn', 940), ('ship', 941), ('fixed', 942), ('apologize', 943), ('hate', 944), ('twin', 945), ('running', 946), ('helped', 947), ('line', 948), ('pale', 949), ('deal', 950), ('yours', 951), ('totally', 952), ('hurts', 953), ('upset', 954), ('wash', 955), ('control', 956), ('keys', 957), ('hat', 958), ('rooms', 959), ('headache', 960), ('watermelon', 961), ('human', 962), ('guy', 963), ('misses', 964), ('dawn', 965), ('cost', 966), ('major', 967), ('ears', 968), ('earth', 969), ('wrote', 970), ('gift', 971), ('sound', 972), ('extremely', 973), ('uncle', 974), ('drawer', 975), ('awake', 976), ('death', 977), ('voice', 978), ('succeed', 979), ('showed', 980), ('invited', 981), ('pencil', 982), ('hall', 983), ('rains', 984), ('college', 985), ('common', 986), ('difference', 987), ('appeared', 988), ('staying', 989), ('newspaper', 990), ('sugar', 991), ('jokes', 992), ('rained', 993), ('sea', 994), ('hole', 995), ('bear', 996), ('zoo', 997), ('email', 998), ('bags', 999), ('trap', 1000), ('absolutely', 1001), ('matters', 1002), ('rock', 1003), ('belongs', 1004), ('due', 1005), ('lake', 1006), ('seeing', 1007), ('supper', 1008), ('neighbors', 1009), ('novels', 1010), ('exam', 1011), ('classroom', 1012), ('deep', 1013), ('science', 1014), ('storm', 1015), ('slow', 1016), ('pieces', 1017), ('between', 1018), ('charge', 1019), ('war', 1020), ('forced', 1021), ('keeps', 1022), ('absent', 1023), ('climbed', 1024), ('interest', 1025), ('wed', 1026), ('suggested', 1027), ('sweater', 1028), ('dozen', 1029), ('bridge', 1030), ('golf', 1031), ('unable', 1032), ('anywhere', 1033), ('pictures', 1034), ('taken', 1035), ('teach', 1036), ('ashamed', 1037), ('speech', 1038), ('arrive', 1039), ('behind', 1040), ('badly', 1041), ('member', 1042), ('permission', 1043), ('twenty', 1044), ('united', 1045), ('making', 1046), ('waited', 1047), ('teachers', 1048), ('visited', 1049), ('held', 1050), ('foreign', 1051), ('garage', 1052), ('telephone', 1053), ('fall', 1054), ('though', 1055), ('hadnt', 1056), ('fingers', 1057), ('population', 1058), ('jump', 1059), ('attack', 1060), ('grab', 1061), ('okay', 1062), ('odd', 1063), ('fantastic', 1064), ('ski', 1065), ('promise', 1066), ('below', 1067), ('seriously', 1068), ('hiding', 1069), ('itll', 1070), ('shy', 1071), ('drew', 1072), ('ignored', 1073), ('violin', 1074), ('sale', 1075), ('actor', 1076), ('stamp', 1077), ('swims', 1078), ('grows', 1079), ('appreciate', 1080), ('ridiculous', 1081), ('natural', 1082), ('lied', 1083), ('bite', 1084), ('carefully', 1085), ('ones', 1086), ('million', 1087), ('cannot', 1088), ('blame', 1089), ('doubt', 1090), ('film', 1091), ('silent', 1092), ('send', 1093), ('tourist', 1094), ('rest', 1095), ('dirty', 1096), ('boys', 1097), ('puzzled', 1098), ('shocked', 1099), ('holding', 1100), ('skiing', 1101), ('familiar', 1102), ('doll', 1103), ('jumping', 1104), ('sun', 1105), ('quickly', 1106), ('ghosts', 1107), ('grew', 1108), ('art', 1109), ('history', 1110), ('orange', 1111), ('church', 1112), ('wallet', 1113), ('planet', 1114), ('birds', 1115), ('ride', 1116), ('tie', 1117), ('forward', 1118), ('mustve', 1119), ('forever', 1120), ('woman', 1121), ('finally', 1122), ('worker', 1123), ('laughing', 1124), ('grade', 1125), ('whatre', 1126), ('headed', 1127), ('shelf', 1128), ('favor', 1129), ('everythings', 1130), ('crossed', 1131), ('honest', 1132), ('courage', 1133), ('insurance', 1134), ('written', 1135), ('lawyer', 1136), ('starts', 1137), ('passport', 1138), ('milky', 1139), ('chinese', 1140), ('washed', 1141), ('forgive', 1142), ('discovered', 1143), ('pick', 1144), ('faster', 1145), ('accept', 1146), ('means', 1147), ('raised', 1148), ('rent', 1149), ('forsake', 1150), ('anxious', 1151), ('noisy', 1152), ('heart', 1153), ('smell', 1154), ('drinks', 1155), ('sent', 1156), ('plenty', 1157), ('card', 1158), ('insects', 1159), ('london', 1160), ('horses', 1161), ('possible', 1162), ('skin', 1163), ('hid', 1164), ('suspect', 1165), ('millionaire', 1166), ('dropped', 1167), ('expecting', 1168), ('moon', 1169), ('feelings', 1170), ('suit', 1171), ('football', 1172), ('holiday', 1173), ('pointed', 1174), ('talked', 1175), ('lift', 1176), ('butter', 1177), ('sell', 1178), ('finding', 1179), ('workers', 1180), ('stamps', 1181), ('furniture', 1182), ('tokyo', 1183), ('hearing', 1184), ('europe', 1185), ('near', 1186), ('begins', 1187), ('pond', 1188), ('silver', 1189), ('sitting', 1190), ('part', 1191), ('parttime', 1192), ('dare', 1193), ('nearest', 1194), ('leaves', 1195), ('drop', 1196), ('fill', 1197), ('meat', 1198), ('understood', 1199), ('sight', 1200), ('arms', 1201), ('suicide', 1202), ('responsibility', 1203), ('pressure', 1204), ('twice', 1205), ('grandfather', 1206), ('allowed', 1207), ('gate', 1208), ('heat', 1209), ('woods', 1210), ('size', 1211), ('public', 1212), ('noise', 1213), ('mexico', 1214), ('generally', 1215), ('intend', 1216), ('message', 1217), ('case', 1218), ('deserves', 1219), ('subject', 1220), ('women', 1221), ('boyfriend', 1222), ('further', 1223), ('hardly', 1224), ('king', 1225), ('news', 1226), ('heavier', 1227), ('admitted', 1228), ('against', 1229), ('advised', 1230), ('slipped', 1231), ('distance', 1232), ('birth', 1233), ('certificate', 1234), ('offered', 1235), ('shopping', 1236), ('languages', 1237), ('moment', 1238), ('accepted', 1239), ('project', 1240), ('answered', 1241), ('kicked', 1242), ('unless', 1243), ('garden', 1244), ('states', 1245), ('realized', 1246), ('prison', 1247), ('somebody', 1248), ('piece', 1249), ('land', 1250), ('popular', 1251), ('north', 1252), ('poured', 1253), ('constellation', 1254), ('concert', 1255), ('baseball', 1256), ('solve', 1257), ('reach', 1258), ('gives', 1259), ('department', 1260), ('neither', 1261), ('classical', 1262), ('experience', 1263), ('instead', 1264), ('system', 1265), ('avoided', 1266), ('wondered', 1267), ('behave', 1268), ('awesome', 1269), ('seated', 1270), ('course', 1271), ('cried', 1272), ('wonderful', 1273), ('calls', 1274), ('step', 1275), ('cash', 1276), ('thirsty', 1277), ('fat', 1278), ('horrible', 1279), ('feet', 1280), ('cares', 1281), ('sweet', 1282), ('ufo', 1283), ('gear', 1284), ('god', 1285), ('rope', 1286), ('exhausted', 1287), ('satisfied', 1288), ('upstairs', 1289), ('absurd', 1290), ('silly', 1291), ('fired', 1292), ('punctual', 1293), ('dancing', 1294), ('fever', 1295), ('decline', 1296), ('curious', 1297), ('nervous', 1298), ('fail', 1299), ('meal', 1300), ('stuff', 1301), ('candle', 1302), ('foot', 1303), ('slept', 1304), ('owe', 1305), ('nature', 1306), ('nonsense', 1307), ('normal', 1308), ('egg', 1309), ('driver', 1310), ('idiot', 1311), ('accurate', 1312), ('dry', 1313), ('liar', 1314), ('agreed', 1315), ('leg', 1316), ('arrested', 1317), ('woke', 1318), ('exit', 1319), ('warn', 1320), ('confidential', 1321), ('starting', 1322), ('peace', 1323), ('aggressive', 1324), ('theyll', 1325), ('bucket', 1326), ('law', 1327), ('price', 1328), ('whereve', 1329), ('vegetarian', 1330), ('brush', 1331), ('teaches', 1332), ('nose', 1333), ('coach', 1334), ('singapore', 1335), ('downtown', 1336), ('relaxing', 1337), ('legs', 1338), ('names', 1339), ('tree', 1340), ('lock', 1341), ('surprising', 1342), ('lonely', 1343), ('washing', 1344), ('purpose', 1345), ('jealous', 1346), ('brave', 1347), ('green', 1348), ('disappoint', 1349), ('fed', 1350), ('shower', 1351), ('juice', 1352), ('counting', 1353), ('convinced', 1354), ('jacket', 1355), ('rely', 1356), ('conservative', 1357), ('button', 1358), ('horse', 1359), ('deer', 1360), ('dying', 1361), ('taxes', 1362), ('hill', 1363), ('retired', 1364), ('couldve', 1365), ('bananas', 1366), ('wise', 1367), ('video', 1368), ('fan', 1369), ('spending', 1370), ('boots', 1371), ('restroom', 1372), ('plays', 1373), ('race', 1374), ('mars', 1375), ('lovely', 1376), ('wherever', 1377), ('disappeared', 1378), ('loud', 1379), ('spoke', 1380), ('helpful', 1381), ('finds', 1382), ('pocket', 1383), ('heading', 1384), ('moving', 1385), ('tshirt', 1386), ('blanket', 1387), ('underestimate', 1388), ('newspapers', 1389), ('handwriting', 1390), ('aware', 1391), ('entirely', 1392), ('york', 1393), ('cream', 1394), ('terrible', 1395), ('wind', 1396), ('excellent', 1397), ('ancient', 1398), ('sentence', 1399), ('wears', 1400), ('cooking', 1401), ('danced', 1402), ('cooperative', 1403), ('aunt', 1404), ('notebook', 1405), ('patient', 1406), ('fruit', 1407), ('cockroaches', 1408), ('hey', 1409), ('suppose', 1410), ('enjoyed', 1411), ('meant', 1412), ('unfortunately', 1413), ('hang', 1414), ('straight', 1415), ('sum', 1416), ('changes', 1417), ('salary', 1418), ('intentions', 1419), ('pain', 1420), ('document', 1421), ('oil', 1422), ('staring', 1423), ('dance', 1424), ('dress', 1425), ('fond', 1426), ('bottle', 1427), ('modern', 1428), ('sixteen', 1429), ('reminds', 1430), ('stole', 1431), ('debate', 1432), ('succeeded', 1433), ('tight', 1434), ('reached', 1435), ('ground', 1436), ('executed', 1437), ('flower', 1438), ('gun', 1439), ('allow', 1440), ('notice', 1441), ('less', 1442), ('interview', 1443), ('arm', 1444), ('walking', 1445), ('harder', 1446), ('watched', 1447), ('apartment', 1448), ('girls', 1449), ('bomb', 1450), ('proposal', 1451), ('mustache', 1452), ('thirteen', 1453), ('fiction', 1454), ('painted', 1455), ('forgotten', 1456), ('minute', 1457), ('beat', 1458), ('temper', 1459), ('attend', 1460), ('laptop', 1461), ('thousand', 1462), ('deals', 1463), ('till', 1464), ('decisions', 1465), ('stone', 1466), ('sport', 1467), ('breathed', 1468), ('feels', 1469), ('within', 1470), ('snowing', 1471), ('evening', 1472), ('delayed', 1473), ('controlled', 1474), ('smiled', 1475), ('quick', 1476), ('commit', 1477), ('handle', 1478), ('members', 1479), ('novelist', 1480), ('allergic', 1481), ('dust', 1482), ('various', 1483), ('data', 1484), ('dollar', 1485), ('worse', 1486), ('copy', 1487), ('factory', 1488), ('politics', 1489), ('cheerful', 1490), ('entered', 1491), ('suddenly', 1492), ('independence', 1493), ('railway', 1494), ('vegetables', 1495), ('available', 1496), ('quitting', 1497), ('tongue', 1498), ('cope', 1499), ('approve', 1500), ('respect', 1501), ('iron', 1502), ('useful', 1503), ('break', 1504), ('itself', 1505), ('covered', 1506), ('rolled', 1507), ('cancer', 1508), ('vigorous', 1509), ('surprise', 1510), ('railroad', 1511), ('whole', 1512), ('bookstore', 1513), ('shook', 1514), ('simply', 1515), ('refrigerator', 1516), ('service', 1517), ('capital', 1518), ('admission', 1519), ('planning', 1520), ('sundays', 1521), ('main', 1522), ('skull', 1523), ('support', 1524), ('group', 1525), ('consult', 1526), ('canada', 1527), ('aside', 1528), ('enter', 1529), ('per', 1530), ('comfortable', 1531), ('previous', 1532), ('worst', 1533), ('jobs', 1534), ('monotonous', 1535), ('burned', 1536), ('enjoys', 1537), ('places', 1538), ('hesitate', 1539), ('loan', 1540), ('pillow', 1541), ('colony', 1542), ('declared', 1543), ('mothers', 1544), ('shutting', 1545), ('words', 1546), ('taught', 1547), ('runs', 1548), ('lower', 1549), ('borrowed', 1550), ('ugly', 1551), ('basketball', 1552), ('except', 1553), ('choose', 1554), ('whichever', 1555), ('success', 1556), ('brothers', 1557), ('gotten', 1558), ('solution', 1559), ('imagine', 1560), ('height', 1561), ('replaced', 1562), ('elephant', 1563), ('expectations', 1564), ('handed', 1565), ('composition', 1566), ('returned', 1567), ('patience', 1568), ('rare', 1569), ('themselves', 1570), ('supermarket', 1571), ('view', 1572), ('largest', 1573), ('nor', 1574), ('american', 1575), ('invented', 1576), ('president', 1577), ('machine', 1578), ('pool', 1579), ('ability', 1580), ('officials', 1581), ('speaker', 1582), ('shell', 1583), ('blow', 1584), ('stars', 1585), ('marketing', 1586), ('mail', 1587), ('fluently', 1588), ('kyoto', 1589), ('supposed', 1590), ('arrival', 1591), ('capable', 1592), ('lots', 1593), ('grandmother', 1594), ('afford', 1595), ('local', 1596), ('entering', 1597), ('bosss', 1598), ('kids', 1599), ('native', 1600), ('wow', 1601), ('cheers', 1602), ('refuse', 1603), ('bless', 1604), ('calm', 1605), ('dj', 1606), ('lazy', 1607), ('clever', 1608), ('dumb', 1609), ('fake', 1610), ('fainted', 1611), ('rude', 1612), ('thin', 1613), ('starving', 1614), ('obvious', 1615), ('dreams', 1616), ('insisted', 1617), ('polite', 1618), ('feed', 1619), ('bird', 1620), ('diet', 1621), ('dislike', 1622), ('lasagna', 1623), ('dessert', 1624), ('puppy', 1625), ('peel', 1626), ('rise', 1627), ('shine', 1628), ('bunch', 1629), ('chicken', 1630), ('unlucky', 1631), ('useless', 1632), ('weak', 1633), ('wolf', 1634), ('trains', 1635), ('kites', 1636), ('cruel', 1637), ('assertive', 1638), ('jumped', 1639), ('theyve', 1640), ('buddy', 1641), ('awful', 1642), ('planted', 1643), ('pottery', 1644), ('whatve', 1645), ('positive', 1646), ('continue', 1647), ('teeth', 1648), ('flu', 1649), ('survive', 1650), ('yolks', 1651), ('band', 1652), ('frightened', 1653), ('trick', 1654), ('sofa', 1655), ('cross', 1656), ('stomach', 1657), ('shall', 1658), ('valuable', 1659), ('studies', 1660), ('divorced', 1661), ('poisoned', 1662), ('improve', 1663), ('ahead', 1664), ('rescued', 1665), ('pull', 1666), ('ladies', 1667), ('admit', 1668), ('betrayed', 1669), ('app', 1670), ('fresh', 1671), ('key', 1672), ('murderer', 1673), ('stunned', 1674), ('delighted', 1675), ('payday', 1676), ('cultivate', 1677), ('repaired', 1678), ('throw', 1679), ('accompany', 1680), ('illiterate', 1681), ('memorize', 1682), ('excited', 1683), ('scary', 1684), ('barn', 1685), ('sushi', 1686), ('volume', 1687), ('lottery', 1688), ('wherere', 1689), ('facebook', 1690), ('served', 1691), ('reply', 1692), ('divide', 1693), ('diary', 1694), ('bowling', 1695), ('faults', 1696), ('pianist', 1697), ('heres', 1698), ('grateful', 1699), ('jupiter', 1700), ('haunted', 1701), ('preposterous', 1702), ('subway', 1703), ('orders', 1704), ('appears', 1705), ('drives', 1706), ('remains', 1707), ('act', 1708), ('chose', 1709), ('neptune', 1710), ('pants', 1711), ('vague', 1712), ('hunting', 1713), ('stepbrother', 1714), ('stomachache', 1715), ('swear', 1716), ('exist', 1717), ('player', 1718), ('journalist', 1719), ('toothache', 1720), ('begun', 1721), ('opens', 1722), ('tends', 1723), ('thatll', 1724), ('clock', 1725), ('ink', 1726), ('wet', 1727), ('towels', 1728), ('beef', 1729), ('manners', 1730), ('strongest', 1731), ('bewildered', 1732), ('homesick', 1733), ('resumed', 1734), ('arriving', 1735), ('file', 1736), ('africa', 1737), ('dinners', 1738), ('others', 1739), ('stared', 1740), ('frustrating', 1741), ('ourselves', 1742), ('danger', 1743), ('numb', 1744), ('worrying', 1745), ('confusing', 1746), ('concern', 1747), ('faucet', 1748), ('dumbfounded', 1749), ('refused', 1750), ('symptoms', 1751), ('winning', 1752), ('yeah', 1753), ('deserve', 1754), ('mosquito', 1755), ('todays', 1756), ('stronger', 1757), ('regret', 1758), ('shake', 1759), ('innocent', 1760), ('magazine', 1761), ('gladly', 1762), ('messing', 1763), ('recent', 1764), ('dipper', 1765), ('simple', 1766), ('faces', 1767), ('fifty', 1768), ('add', 1769), ('shaved', 1770), ('annoying', 1771), ('ceremony', 1772), ('ended', 1773), ('growing', 1774), ('suspected', 1775), ('straw', 1776), ('dreamed', 1777), ('explained', 1778), ('spoon', 1779), ('resign', 1780), ('sir', 1781), ('attracted', 1782), ('raw', 1783), ('kanji', 1784), ('fool', 1785), ('arranged', 1786), ('extra', 1787), ('nurse', 1788), ('gray', 1789), ('stops', 1790), ('arguing', 1791), ('volleyball', 1792), ('brandy', 1793), ('sunset', 1794), ('wood', 1795), ('push', 1796), ('snake', 1797), ('shed', 1798), ('loudly', 1799), ('cheese', 1800), ('potatoes', 1801), ('constant', 1802), ('roof', 1803), ('expert', 1804), ('signed', 1805), ('wore', 1806), ('low', 1807), ('solved', 1808), ('focus', 1809), ('customer', 1810), ('nerve', 1811), ('mustnt', 1812), ('truck', 1813), ('flour', 1814), ('discuss', 1815), ('scare', 1816), ('dressed', 1817), ('pair', 1818), ('suffering', 1819), ('theater', 1820), ('soccer', 1821), ('foolish', 1822), ('wound', 1823), ('bone', 1824), ('experiment', 1825), ('contains', 1826), ('flag', 1827), ('mat', 1828), ('admirer', 1829), ('acting', 1830), ('defend', 1831), ('grandchildren', 1832), ('fluent', 1833), ('handy', 1834), ('strong', 1835), ('blowing', 1836), ('shoot', 1837), ('exception', 1838), ('culture', 1839), ('regularly', 1840), ('locker', 1841), ('believed', 1842), ('friendly', 1843), ('humans', 1844), ('earthquakes', 1845), ('depends', 1846), ('claim', 1847), ('mystery', 1848), ('guards', 1849), ('pregnant', 1850), ('grow', 1851), ('remain', 1852), ('meters', 1853), ('rejected', 1854), ('clicked', 1855), ('protect', 1856), ('disturbed', 1857), ('bedroom', 1858), ('heaven', 1859), ('prepared', 1860), ('among', 1861), ('trees', 1862), ('impossible', 1863), ('selling', 1864), ('ought', 1865), ('improving', 1866), ('fallen', 1867), ('scissors', 1868), ('wished', 1869), ('answers', 1870), ('suspicious', 1871), ('june', 1872), ('female', 1873), ('text', 1874), ('somethings', 1875), ('talks', 1876), ('fountain', 1877), ('china', 1878), ('singer', 1879), ('kissed', 1880), ('rushed', 1881), ('compete', 1882), ('forbidden', 1883), ('anyway', 1884), ('writer', 1885), ('average', 1886), ('evolution', 1887), ('breath', 1888), ('scarcely', 1889), ('pronounce', 1890), ('possibly', 1891), ('pushed', 1892), ('degrees', 1893), ('flight', 1894), ('parties', 1895), ('pollution', 1896), ('possibility', 1897), ('audience', 1898), ('method', 1899), ('midnight', 1900), ('thick', 1901), ('thanked', 1902), ('pie', 1903), ('nextdoor', 1904), ('impressed', 1905), ('author', 1906), ('brochure', 1907), ('yourselves', 1908), ('power', 1909), ('regular', 1910), ('drove', 1911), ('indeed', 1912), ('collecting', 1913), ('roundtrip', 1914), ('truthful', 1915), ('kilos', 1916), ('asking', 1917), ('privilege', 1918), ('complained', 1919), ('animals', 1920), ('lack', 1921), ('rid', 1922), ('practices', 1923), ('seats', 1924), ('print', 1925), ('whispered', 1926), ('disappointing', 1927), ('conversation', 1928), ('crossing', 1929), ('january', 1930), ('pretend', 1931), ('seldom', 1932), ('successful', 1933), ('guide', 1934), ('pm', 1935), ('miles', 1936), ('vase', 1937), ('constantly', 1938), ('ping', 1939), ('pong', 1940), ('grabbed', 1941), ('electrical', 1942), ('immediately', 1943), ('methods', 1944), ('enemy', 1945), ('laundry', 1946), ('attempting', 1947), ('belts', 1948), ('pencils', 1949), ('mens', 1950), ('taste', 1951), ('suitcase', 1952), ('canadian', 1953), ('believes', 1954), ('santa', 1955), ('claus', 1956), ('parking', 1957), ('fork', 1958), ('conditioning', 1959), ('bitten', 1960), ('photographer', 1961), ('narrowly', 1962), ('escaped', 1963), ('regretted', 1964), ('fractured', 1965), ('crowd', 1966), ('generous', 1967), ('uniforms', 1968), ('turns', 1969), ('humor', 1970), ('someday', 1971), ('tire', 1972), ('pack', 1973), ('cloud', 1974), ('applause', 1975), ('wasting', 1976), ('drank', 1977), ('somewhere', 1978), ('math', 1979), ('garbage', 1980), ('invite', 1981), ('millions', 1982), ('skirt', 1983), ('ball', 1984), ('houses', 1985), ('complete', 1986), ('tallest', 1987), ('johns', 1988), ('shirts', 1989), ('discussed', 1990), ('paintings', 1991), ('musical', 1992), ('exercise', 1993), ('poisoning', 1994), ('acquainted', 1995), ('independent', 1996), ('englishmen', 1997), ('damage', 1998), ('strength', 1999), ('darker', 2000), ('appreciated', 2001), ('excitement', 2002), ('mathematics', 2003), ('airplanes', 2004), ('ghost', 2005), ('officer', 2006), ('acceptable', 2007), ('declaration', 2008), ('required', 2009), ('conditioner', 2010), ('financially', 2011), ('sensitive', 2012), ('criticism', 2013), ('description', 2014), ('holidays', 2015), ('chickens', 2016), ('meantime', 2017), ('pays', 2018), ('crushed', 2019), ('twelve', 2020), ('spider', 2021), ('considering', 2022), ('ignore', 2023), ('lifestyle', 2024), ('parked', 2025), ('contest', 2026), ('basement', 2027), ('elevator', 2028), ('compass', 2029), ('quarrel', 2030), ('airplane', 2031), ('laws', 2032), ('apologized', 2033), ('quarter', 2034), ('hanging', 2035), ('tied', 2036), ('greece', 2037), ('meetings', 2038), ('internet', 2039), ('resources', 2040), ('rowboat', 2041), ('cheapest', 2042), ('importance', 2043), ('scolded', 2044), ('photograph', 2045), ('album', 2046), ('collection', 2047), ('reservation', 2048), ('sixthirty', 2049), ('switzerland', 2050), ('spring', 2051), ('korean', 2052), ('noticed', 2053), ('pepper', 2054), ('technical', 2055), ('employs', 2056), ('top', 2057), ('mountain', 2058), ('kissing', 2059), ('army', 2060), ('persuaded', 2061), ('managed', 2062), ('lecture', 2063), ('contacts', 2064), ('entire', 2065), ('booth', 2066), ('carry', 2067), ('luggage', 2068), ('nights', 2069), ('german', 2070), ('osaka', 2071), ('typhoon', 2072), ('contract', 2073), ('intention', 2074), ('newest', 2075), ('spends', 2076), ('restaurant', 2077), ('banjo', 2078), ('alert', 2079), ('germany', 2080), ('thomas', 2081), ('edison', 2082), ('indonesia', 2083), ('warning', 2084), ('energy', 2085), ('richest', 2086), ('doctors', 2087), ('statement', 2088), ('luck', 2089), ('knowledge', 2090), ('tape', 2091), ('fixing', 2092), ('marry', 2093), ('lent', 2094), ('lunar', 2095), ('plant', 2096), ('currently', 2097), ('practice', 2098), ('trash', 2099), ('bauxite', 2100), ('changing', 2101), ('koalas', 2102), ('remind', 2103), ('pleasant', 2104), ('graduation', 2105), ('examined', 2106), ('motorcycle', 2107), ('chosen', 2108), ('barely', 2109), ('assumed', 2110), ('progress', 2111), ('alice', 2112), ('coconut', 2113), ('social', 2114), ('urgent', 2115), ('saturdays', 2116), ('scheduled', 2117), ('fireman', 2118), ('burning', 2119), ('society', 2120), ('butterflies', 2121), ('temples', 2122), ('threw', 2123), ('fax', 2124), ('directly', 2125), ('lemons', 2126), ('lemonade', 2127), ('choosing', 2128), ('planets', 2129), ('colder', 2130), ('declined', 2131), ('invitation', 2132), ('beginning', 2133), ('complicated', 2134), ('imposed', 2135), ('lately', 2136), ('dated', 2137), ('accidents', 2138), ('position', 2139), ('mistakenly', 2140), ('government', 2141), ('romantic', 2142), ('flights', 2143), ('graduated', 2144), ('lay', 2145), ('manager', 2146), ('frequently', 2147), ('experiences', 2148), ('professional', 2149), ('kitten', 2150), ('visiting', 2151), ('receiving', 2152), ('concentrate', 2153), ('limits', 2154), ('tax', 2155), ('particular', 2156), ('necessary', 2157), ('experienced', 2158), ('certainly', 2159), ('studied', 2160), ('chicago', 2161), ('cities', 2162), ('avoid', 2163), ('assume', 2164), ('solar', 2165), ('peoples', 2166), ('affect', 2167), ('fog', 2168), ('approach', 2169), ('angle', 2170), ('powers', 2171), ('st', 2172), ('style', 2173), ('provide', 2174), ('scariest', 2175), ('deeply', 2176), ('unlikely', 2177), ('likely', 2178), ('diamonds', 2179), ('esperanto', 2180), ('aids', 2181), ('african', 2182), ('elephants', 2183), ('asian', 2184), ('body', 2185), ('friday', 2186), ('figure', 2187), ('product', 2188), ('greatest', 2189), ('economic', 2190), ('los', 2191), ('angeles', 2192), ('vikings', 2193), ('columbus', 2194), ('downloading', 2195), ('uploading', 2196), ('capabilities', 2197), ('blew', 2198), ('policy', 2199), ('meaning', 2200), ('announced', 2201), ('freeze', 2202), ('terrific', 2203), ('chill', 2204), ('bark', 2205), ('naked', 2206), ('pipe', 2207), ('pooped', 2208), ('burn', 2209), ('oh', 2210), ('agrees', 2211), ('bowl', 2212), ('blink', 2213), ('starved', 2214), ('fist', 2215), ('blushed', 2216), ('blinked', 2217), ('flaky', 2218), ('cnn', 2219), ('bore', 2220), ('surf', 2221), ('famished', 2222), ('knock', 2223), ('hates', 2224), ('tense', 2225), ('stutters', 2226), ('strict', 2227), ('fools', 2228), ('mock', 2229), ('sinned', 2230), ('tricked', 2231), ('twitter', 2232), ('hoax', 2233), ('dreaming', 2234), ('blames', 2235), ('cranky', 2236), ('immune', 2237), ('sinking', 2238), ('tease', 2239), ('clue', 2240), ('screaming', 2241), ('cyanide', 2242), ('rabbi', 2243), ('jittery', 2244), ('credible', 2245), ('cultured', 2246), ('sociable', 2247), ('trapped', 2248), ('congratulations', 2249), ('bother', 2250), ('double', 2251), ('dose', 2252), ('tigers', 2253), ('gloomy', 2254), ('cheating', 2255), ('spain', 2256), ('yelling', 2257), ('eggplant', 2258), ('destroy', 2259), ('thrill', 2260), ('lies', 2261), ('rejection', 2262), ('fair', 2263), ('peculiar', 2264), ('actors', 2265), ('feared', 2266), ('awkward', 2267), ('adores', 2268), ('blacked', 2269), ('kite', 2270), ('cab', 2271), ('concerned', 2272), ('captured', 2273), ('ambitious', 2274), ('contributed', 2275), ('unsure', 2276), ('digging', 2277), ('mention', 2278), ('barber', 2279), ('debt', 2280), ('acquitted', 2281), ('howre', 2282), ('scream', 2283), ('label', 2284), ('bookkeeper', 2285), ('alcoholic', 2286), ('bluffing', 2287), ('super', 2288), ('sunflower', 2289), ('graceful', 2290), ('pulse', 2291), ('rifles', 2292), ('nobodys', 2293), ('daydreaming', 2294), ('kindly', 2295), ('tank', 2296), ('proof', 2297), ('puzzling', 2298), ('butler', 2299), ('courteous', 2300), ('easygoing', 2301), ('forgetful', 2302), ('walks', 2303), ('nonsmokers', 2304), ('risk', 2305), ('therapy', 2306), ('skinny', 2307), ('ambulance', 2308), ('laughed', 2309), ('goodnight', 2310), ('trusted', 2311), ('mess', 2312), ('interviews', 2313), ('accountant', 2314), ('awfully', 2315), ('optional', 2316), ('chin', 2317), ('dads', 2318), ('smiles', 2319), ('following', 2320), ('locks', 2321), ('grown', 2322), ('leaks', 2323), ('ludicrous', 2324), ('thursday', 2325), ('bookworm', 2326), ('distressed', 2327), ('stuttering', 2328), ('unemployed', 2329), ('baffled', 2330), ('staggered', 2331), ('fortunate', 2332), ('tomorrows', 2333), ('battle', 2334), ('score', 2335), ('flute', 2336), ('kabuki', 2337), ('stones', 2338), ('cousins', 2339), ('dizzy', 2340), ('lefthanded', 2341), ('promises', 2342), ('poem', 2343), ('frank', 2344), ('repair', 2345), ('amazing', 2346), ('unfortunate', 2347), ('round', 2348), ('setting', 2349), ('waves', 2350), ('dish', 2351), ('tasty', 2352), ('verifiable', 2353), ('abandoned', 2354), ('bartender', 2355), ('dock', 2356), ('choosy', 2357), ('downcast', 2358), ('guidance', 2359), ('goals', 2360), ('interfering', 2361), ('tip', 2362), ('cds', 2363), ('brain', 2364), ('eyesight', 2365), ('cleared', 2366), ('stutter', 2367), ('lousy', 2368), ('swimmer', 2369), ('tracking', 2370), ('buck', 2371), ('permissible', 2372), ('aboard', 2373), ('ringing', 2374), ('nuts', 2375), ('nutritious', 2376), ('prepare', 2377), ('evacuate', 2378), ('fooling', 2379), ('minor', 2380), ('socks', 2381), ('suffice', 2382), ('imitation', 2383), ('evidence', 2384), ('illegal', 2385), ('handbag', 2386), ('magnificent', 2387), ('bores', 2388), ('abused', 2389), ('approached', 2390), ('politician', 2391), ('ignoring', 2392), ('attic', 2393), ('perplexed', 2394), ('training', 2395), ('sings', 2396), ('bound', 2397), ('tore', 2398), ('towel', 2399), ('pets', 2400), ('fear', 2401), ('terribly', 2402), ('oranges', 2403), ('ideas', 2404), ('cameras', 2405), ('optimism', 2406), ('mp', 2407), ('complain', 2408), ('shorter', 2409), ('eleven', 2410), ('gander', 2411), ('monkeys', 2412), ('sumatra', 2413), ('ticking', 2414), ('lakes', 2415), ('frozen', 2416), ('voting', 2417), ('solid', 2418), ('homemade', 2419), ('insufficient', 2420), ('cramped', 2421), ('irritated', 2422), ('breathe', 2423), ('ironed', 2424), ('sox', 2425), ('conscientious', 2426), ('childish', 2427), ('nonplussed', 2428), ('backs', 2429), ('turtles', 2430), ('reptiles', 2431), ('intoxicated', 2432), ('whens', 2433), ('knives', 2434), ('deleted', 2435), ('coward', 2436), ('continent', 2437), ('imagining', 2438), ('mood', 2439), ('lighter', 2440), ('vacancy', 2441), ('surprises', 2442), ('admire', 2443), ('theories', 2444), ('wits', 2445), ('coincidence', 2446), ('whirl', 2447), ('tests', 2448), ('huge', 2449), ('leaking', 2450), ('heater', 2451), ('burns', 2452), ('gas', 2453), ('clapped', 2454), ('cooker', 2455), ('expelled', 2456), ('traitor', 2457), ('birdwatching', 2458), ('searching', 2459), ('cause', 2460), ('specialty', 2461), ('radium', 2462), ('gentleman', 2463), ('grass', 2464), ('prize', 2465), ('untied', 2466), ('comic', 2467), ('delivers', 2468), ('bright', 2469), ('online', 2470), ('wholeheartedly', 2471), ('realistic', 2472), ('competition', 2473), ('cashier', 2474), ('habitually', 2475), ('armpits', 2476), ('hunter', 2477), ('negotiation', 2478), ('pig', 2479), ('flipped', 2480), ('salty', 2481), ('halfdone', 2482), ('replace', 2483), ('flushed', 2484), ('employee', 2485), ('perfectionist', 2486), ('arabic', 2487), ('occupation', 2488), ('backpack', 2489), ('perfectly', 2490), ('courageous', 2491), ('circus', 2492), ('calculator', 2493), ('oysters', 2494), ('dirtcheap', 2495), ('effect', 2496), ('disgusted', 2497), ('skies', 2498), ('cared', 2499), ('f', 2500), ('chemistry', 2501), ('whistle', 2502), ('resigned', 2503), ('nightmares', 2504), ('rarely', 2505), ('magazines', 2506), ('loveable', 2507), ('sensible', 2508), ('actress', 2509), ('drinkable', 2510), ('misunderstanding', 2511), ('secretary', 2512), ('waterproof', 2513), ('dig', 2514), ('stitches', 2515), ('scar', 2516), ('selfish', 2517), ('odds', 2518), ('proverb', 2519), ('snowstorm', 2520), ('account', 2521), ('paragraph', 2522), ('shaving', 2523), ('argue', 2524), ('dug', 2525), ('decent', 2526), ('tidying', 2527), ('muscular', 2528), ('fried', 2529), ('raincoat', 2530), ('uninterested', 2531), ('sleeps', 2532), ('pilot', 2533), ('recognize', 2534), ('flame', 2535), ('granted', 2536), ('hoping', 2537), ('destination', 2538), ('teams', 2539), ('panic', 2540), ('shout', 2541), ('buying', 2542), ('committee', 2543), ('fastball', 2544), ('cloth', 2545), ('diagonally', 2546), ('darwin', 2547), ('wines', 2548), ('shortly', 2549), ('disregarded', 2550), ('fighting', 2551), ('assistant', 2552), ('spelled', 2553), ('fare', 2554), ('snows', 2555), ('stroke', 2556), ('purple', 2557), ('expenses', 2558), ('exciting', 2559), ('hallway', 2560), ('sweep', 2561), ('thud', 2562), ('tolerate', 2563), ('overeat', 2564), ('slides', 2565), ('weaving', 2566), ('carpet', 2567), ('hamburger', 2568), ('bicycles', 2569), ('brake', 2570), ('sunglasses', 2571), ('interests', 2572), ('continuing', 2573), ('remained', 2574), ('duties', 2575), ('internal', 2576), ('timing', 2577), ('kidney', 2578), ('convicted', 2579), ('felon', 2580), ('smarter', 2581), ('outdoors', 2582), ('cane', 2583), ('murdered', 2584), ('import', 2585), ('india', 2586), ('san', 2587), ('francisco', 2588), ('snacking', 2589), ('ussr', 2590), ('grapes', 2591), ('guts', 2592), ('example', 2593), ('undone', 2594), ('rat', 2595), ('destroys', 2596), ('destiny', 2597), ('allergies', 2598), ('peanut', 2599), ('mineral', 2600), ('treat', 2601), ('tasted', 2602), ('acknowledged', 2603), ('record', 2604), ('hired', 2605), ('bodybuilding', 2606), ('efforts', 2607), ('bend', 2608), ('mattered', 2609), ('essay', 2610), ('named', 2611), ('cookie', 2612), ('poetry', 2613), ('using', 2614), ('lenient', 2615), ('context', 2616), ('untouched', 2617), ('overpriced', 2618), ('lesson', 2619), ('tags', 2620), ('battery', 2621), ('twins', 2622), ('reputable', 2623), ('suits', 2624), ('event', 2625), ('shows', 2626), ('comments', 2627), ('risks', 2628), ('accomplished', 2629), ('medal', 2630), ('enthusiastic', 2631), ('disposition', 2632), ('behaving', 2633), ('strangely', 2634), ('careless', 2635), ('finishing', 2636), ('poor', 2637), ('mentally', 2638), ('unfit', 2639), ('photogenic', 2640), ('arrives', 2641), ('antiques', 2642), ('deceive', 2643), ('seventh', 2644), ('wiped', 2645), ('chat', 2646), ('castle', 2647), ('terminal', 2648), ('buys', 2649), ('type', 2650), ('tighten', 2651), ('knot', 2652), ('sixty', 2653), ('seconds', 2654), ('banks', 2655), ('belong', 2656), ('clubs', 2657), ('bush', 2658), ('risky', 2659), ('hook', 2660), ('handsome', 2661), ('loses', 2662), ('hopefully', 2663), ('protests', 2664), ('attitude', 2665), ('intended', 2666), ('passes', 2667), ('faint', 2668), ('master', 2669), ('pendant', 2670), ('iceland', 2671), ('volcanoes', 2672), ('male', 2673), ('delivery', 2674), ('none', 2675), ('talkative', 2676), ('register', 2677), ('loaf', 2678), ('imported', 2679), ('suggesting', 2680), ('desperate', 2681), ('archer', 2682), ('aroused', 2683), ('suspicion', 2684), ('strangers', 2685), ('outsiders', 2686), ('confidence', 2687), ('selfeducated', 2688), ('bleeding', 2689), ('internally', 2690), ('impatient', 2691), ('itching', 2692), ('bringing', 2693), ('organic', 2694), ('rifle', 2695), ('relatively', 2696), ('shore', 2697), ('asia', 2698), ('cancel', 2699), ('weapons', 2700), ('fashion', 2701), ('marital', 2702), ('status', 2703), ('deceiving', 2704), ('depend', 2705), ('fulfill', 2706), ('perform', 2707), ('scarce', 2708), ('thicker', 2709), ('soft', 2710), ('wrapped', 2711), ('western', 2712), ('donated', 2713), ('watches', 2714), ('fabric', 2715), ('buses', 2716), ('consider', 2717), ('hawaii', 2718), ('propose', 2719), ('updated', 2720), ('blog', 2721), ('entry', 2722), ('ecological', 2723), ('disaster', 2724), ('tenminute', 2725), ('zero', 2726), ('lincoln', 2727), ('slaves', 2728), ('sisterinlaw', 2729), ('farmer', 2730), ('stories', 2731), ('south', 2732), ('page', 2733), ('climates', 2734), ('robbed', 2735), ('purse', 2736), ('overcast', 2737), ('woken', 2738), ('holds', 2739), ('liter', 2740), ('disturbing', 2741), ('windows', 2742), ('rose', 2743), ('sailing', 2744), ('accent', 2745), ('obsessed', 2746), ('peeling', 2747), ('relocating', 2748), ('proofread', 2749), ('manuscript', 2750), ('sympathetic', 2751), ('sets', 2752), ('final', 2753), ('reggae', 2754), ('daughters', 2755), ('pajamas', 2756), ('blinders', 2757), ('acute', 2758), ('bankers', 2759), ('admired', 2760), ('pumpkin', 2761), ('scene', 2762), ('global', 2763), ('tells', 2764), ('vulgar', 2765), ('dallas', 2766), ('eager', 2767), ('urged', 2768), ('inaccurate', 2769), ('disease', 2770), ('spread', 2771), ('rackets', 2772), ('trafficking', 2773), ('crime', 2774), ('advise', 2775), ('bottles', 2776), ('stubborn', 2777), ('absolute', 2778), ('nothings', 2779), ('chances', 2780), ('aid', 2781), ('complaints', 2782), ('wanting', 2783), ('chairs', 2784), ('mayonnaise', 2785), ('coins', 2786), ('naples', 2787), ('picturesque', 2788), ('welcomed', 2789), ('hats', 2790), ('bathrooms', 2791), ('angel', 2792), ('civilians', 2793), ('wounded', 2794), ('begged', 2795), ('oxygen', 2796), ('programmer', 2797), ('mowing', 2798), ('lawn', 2799), ('hears', 2800), ('fuel', 2801), ('gauge', 2802), ('yoga', 2803), ('ignorant', 2804), ('seatbelt', 2805), ('quietly', 2806), ('listener', 2807), ('signature', 2808), ('illegible', 2809), ('maintain', 2810), ('monkey', 2811), ('rescue', 2812), ('outage', 2813), ('direction', 2814), ('season', 2815), ('charming', 2816), ('glitters', 2817), ('priority', 2818), ('matches', 2819), ('turning', 2820), ('radiator', 2821), ('chalk', 2822), ('insect', 2823), ('packing', 2824), ('beggar', 2825), ('image', 2826), ('teaching', 2827), ('onions', 2828), ('bites', 2829), ('wishes', 2830), ('interrupt', 2831), ('somebodys', 2832), ('overheard', 2833), ('gonna', 2834), ('shipping', 2835), ('gotta', 2836), ('discussing', 2837), ('salon', 2838), ('guitars', 2839), ('strings', 2840), ('cooked', 2841), ('sandwich', 2842), ('envelope', 2843), ('elses', 2844), ('blocks', 2845), ('flapped', 2846), ('wings', 2847), ('crashed', 2848), ('led', 2849), ('oppressed', 2850), ('based', 2851), ('quarters', 2852), ('applied', 2853), ('scholarship', 2854), ('engineer', 2855), ('disagreeable', 2856), ('suffered', 2857), ('suppress', 2858), ('unorthodox', 2859), ('encouraging', 2860), ('bide', 2861), ('boarding', 2862), ('closest', 2863), ('handkerchief', 2864), ('conform', 2865), ('attentive', 2866), ('cuter', 2867), ('mere', 2868), ('bike', 2869), ('drawing', 2870), ('objection', 2871), ('noted', 2872), ('bribe', 2873), ('medical', 2874), ('article', 2875), ('agreement', 2876), ('twentyfive', 2877), ('trace', 2878), ('uncomfortable', 2879), ('subjective', 2880), ('italian', 2881), ('humiliate', 2882), ('bookshop', 2883), ('twisted', 2884), ('ankle', 2885), ('compliment', 2886), ('continuously', 2887), ('opinions', 2888), ('remove', 2889), ('grades', 2890), ('personality', 2891), ('hopes', 2892), ('designer', 2893), ('knocked', 2894), ('hunters', 2895), ('crop', 2896), ('possibilities', 2897), ('endless', 2898), ('visitor', 2899), ('gifts', 2900), ('sunshine', 2901), ('touched', 2902), ('thirteenyearold', 2903), ('amateur', 2904), ('terms', 2905), ('sweeping', 2906), ('rode', 2907), ('alarm', 2908), ('clearing', 2909), ('doorknob', 2910), ('toward', 2911), ('entrance', 2912), ('quieted', 2913), ('compared', 2914), ('hers', 2915), ('pancakes', 2916), ('historian', 2917), ('lead', 2918), ('bees', 2919), ('stinging', 2920), ('mentioned', 2921), ('temporary', 2922), ('commute', 2923), ('judge', 2924), ('cover', 2925), ('discouraged', 2926), ('lining', 2927), ('gallons', 2928), ('multiplied', 2929), ('precious', 2930), ('injury', 2931), ('sydney', 2932), ('uncontrollable', 2933), ('writes', 2934), ('penicillin', 2935), ('hay', 2936), ('narrowminded', 2937), ('sharp', 2938), ('chest', 2939), ('downstairs', 2940), ('toast', 2941), ('jelly', 2942), ('saving', 2943), ('tour', 2944), ('universal', 2945), ('sheet', 2946), ('knocking', 2947), ('corner', 2948), ('bitter', 2949), ('completed', 2950), ('ships', 2951), ('crew', 2952), ('serve', 2953), ('hazard', 2954), ('affirmative', 2955), ('slice', 2956), ('formal', 2957), ('tricks', 2958), ('filled', 2959), ('personal', 2960), ('quicktempered', 2961), ('biohazard', 2962), ('laid', 2963), ('temptation', 2964), ('gum', 2965), ('cries', 2966), ('practiced', 2967), ('realizes', 2968), ('ages', 2969), ('punishing', 2970), ('checkin', 2971), ('improved', 2972), ('identical', 2973), ('ours', 2974), ('phrased', 2975), ('appeal', 2976), ('instrument', 2977), ('friendship', 2978), ('requires', 2979), ('mutual', 2980), ('listened', 2981), ('carbon', 2982), ('earn', 2983), ('club', 2984), ('bumped', 2985), ('embarrass', 2986), ('interrupted', 2987), ('expected', 2988), ('paranoid', 2989), ('synthetic', 2990), ('rubber', 2991), ('websites', 2992), ('layout', 2993), ('kenya', 2994), ('sends', 2995), ('regards', 2996), ('hampshire', 2997), ('vermont', 2998), ('staff', 2999), ('production', 3000), ('decreased', 3001), ('suffocated', 3002), ('plates', 3003), ('earrings', 3004), ('salesman', 3005), ('borders', 3006), ('planes', 3007), ('flew', 3008), ('mysteries', 3009), ('nudged', 3010), ('crack', 3011), ('swears', 3012), ('spot', 3013), ('screamed', 3014), ('tears', 3015), ('buffet', 3016), ('conserve', 3017), ('fireplace', 3018), ('cynical', 3019), ('anytime', 3020), ('treated', 3021), ('shape', 3022), ('spelling', 3023), ('nonsmoking', 3024), ('section', 3025), ('trunks', 3026), ('created', 3027), ('coached', 3028), ('sadness', 3029), ('resembles', 3030), ('bookshelf', 3031), ('happiness', 3032), ('beyond', 3033), ('passing', 3034), ('sits', 3035), ('recommend', 3036), ('wanna', 3037), ('tuesday', 3038), ('italy', 3039), ('neat', 3040), ('treats', 3041), ('photography', 3042), ('stress', 3043), ('area', 3044), ('harmful', 3045), ('arrow', 3046), ('indicates', 3047), ('defeat', 3048), ('mosquitoes', 3049), ('caucasian', 3050), ('thorns', 3051), ('frantically', 3052), ('backpedaling', 3053), ('zealand', 3054), ('webs', 3055), ('ontario', 3056), ('sheep', 3057), ('punk', 3058), ('chocolates', 3059), ('owned', 3060), ('coaching', 3061), ('descend', 3062), ('sweat', 3063), ('market', 3064), ('documents', 3065), ('prettiest', 3066), ('meter', 3067), ('centimeters', 3068), ('algebra', 3069), ('branch', 3070), ('bangkok', 3071), ('thailand', 3072), ('needles', 3073), ('float', 3074), ('behavior', 3075), ('primary', 3076), ('honesty', 3077), ('guarantee', 3078), ('copyright', 3079), ('enforced', 3080), ('gambling', 3081), ('indoors', 3082), ('calling', 3083), ('oriental', 3084), ('conferences', 3085), ('watering', 3086), ('hilton', 3087), ('philosophers', 3088), ('connection', 3089), ('galaxy', 3090), ('shuffle', 3091), ('grasp', 3092), ('herself', 3093), ('option', 3094), ('lion', 3095), ('jungle', 3096), ('steadily', 3097), ('recovering', 3098), ('mightier', 3099), ('sword', 3100), ('fluctuates', 3101), ('daily', 3102), ('splattered', 3103), ('waters', 3104), ('cure', 3105), ('schizophrenia', 3106), ('radios', 3107), ('designed', 3108), ('cute', 3109), ('grudgingly', 3110), ('obviously', 3111), ('dialed', 3112), ('pleaded', 3113), ('slammed', 3114), ('sliced', 3115), ('banana', 3116), ('waiter', 3117), ('boils', 3118), ('bible', 3119), ('subjects', 3120), ('candy', 3121), ('tooth', 3122), ('rural', 3123), ('areas', 3124), ('dishes', 3125), ('wolves', 3126), ('accuracy', 3127), ('arithmetic', 3128), ('yesterdays', 3129), ('tougher', 3130), ('thrilled', 3131), ('canadians', 3132), ('traditions', 3133), ('preserved', 3134), ('shoulders', 3135), ('humiliation', 3136), ('pens', 3137), ('oxford', 3138), ('opportunity', 3139), ('brown', 3140), ('warden', 3141), ('treatment', 3142), ('practical', 3143), ('kimchi', 3144), ('traditional', 3145), ('foolishness', 3146), ('hatred', 3147), ('advises', 3148), ('scientist', 3149), ('july', 3150), ('honey', 3151), ('sweetener', 3152), ('border', 3153), ('boat', 3154), ('parallel', 3155), ('hut', 3156), ('situated', 3157), ('valley', 3158), ('toothbrush', 3159), ('difficulty', 3160), ('joining', 3161), ('mountaineering', 3162), ('slapped', 3163), ('motioned', 3164), ('nervously', 3165), ('lady', 3166), ('stirred', 3167), ('pigeons', 3168), ('detail', 3169), ('virus', 3170), ('hardware', 3171), ('instruments', 3172), ('tattoo', 3173), ('fortune', 3174), ('accompanied', 3175), ('incorrect', 3176), ('examine', 3177), ('properly', 3178), ('papua', 3179), ('guinea', 3180), ('virtue', 3181), ('addict', 3182), ('drug', 3183), ('overdose', 3184), ('fifteen', 3185), ('cellar', 3186), ('stinky', 3187), ('struck', 3188), ('royal', 3189), ('palace', 3190), ('revolve', 3191), ('losses', 3192), ('submitted', 3193), ('court', 3194), ('suitable', 3195), ('established', 3196), ('answering', 3197), ('stain', 3198), ('critical', 3199), ('condition', 3200), ('compromise', 3201), ('berlin', 3202), ('repeat', 3203), ('colors', 3204), ('offended', 3205), ('squares', 3206), ('blackboard', 3207), ('haircut', 3208), ('helen', 3209), ('keller', 3210), ('deaf', 3211), ('mute', 3212), ('proposition', 3213), ('astrophysicist', 3214), ('tires', 3215), ('foolishly', 3216), ('hairdresser', 3217), ('permanent', 3218), ('rats', 3219), ('overtime', 3220), ('boiling', 3221), ('postcard', 3222), ('normans', 3223), ('conquered', 3224), ('england', 3225), ('boxer', 3226), ('paradise', 3227), ('judges', 3228), ('uproar', 3229), ('flying', 3230), ('bulb', 3231), ('tries', 3232), ('above', 3233), ('attempt', 3234), ('photocopied', 3235), ('poked', 3236), ('aim', 3237), ('wreck', 3238), ('credibility', 3239), ('item', 3240), ('clothing', 3241), ('shrimp', 3242), ('published', 3243), ('character', 3244), ('glee', 3245), ('conduct', 3246), ('bills', 3247), ('press', 3248), ('thanksgiving', 3249), ('democracy', 3250), ('originated', 3251), ('witnesss', 3252), ('opera', 3253), ('confuse', 3254), ('astrology', 3255), ('observe', 3256), ('attributes', 3257), ('surrounded', 3258), ('instantly', 3259), ('classes', 3260), ('unhappy', 3261), ('pepperoni', 3262), ('expand', 3263), ('interpreted', 3264), ('silence', 3265), ('consent', 3266), ('reconsider', 3267), ('hitchhiking', 3268), ('prohibited', 3269), ('conference', 3270), ('autumn', 3271), ('scotland', 3272), ('cassette', 3273), ('recorder', 3274), ('assured', 3275), ('participated', 3276), ('s', 3277), ('gulf', 3278), ('incident', 3279), ('apart', 3280), ('keen', 3281), ('intense', 3282), ('missing', 3283), ('earths', 3284), ('satellite', 3285), ('unpredictable', 3286), ('wrestler', 3287), ('weighs', 3288), ('kilograms', 3289), ('eclipse', 3290), ('calendar', 3291), ('hotcakes', 3292), ('pitch', 3293), ('tent', 3294), ('disagree', 3295), ('purposes', 3296), ('defeated', 3297), ('goggles', 3298), ('reasoning', 3299), ('cabin', 3300), ('lakefront', 3301), ('preparing', 3302), ('kindergarten', 3303), ('busier', 3304), ('shivered', 3305), ('sharpen', 3306), ('ways', 3307), ('concerts', 3308), ('tossed', 3309), ('soda', 3310), ('persuade', 3311), ('porch', 3312), ('camping', 3313), ('saddles', 3314), ('prevented', 3315), ('reaction', 3316), ('source', 3317), ('aluminium', 3318), ('biddle', 3319), ('disposal', 3320), ('supplier', 3321), ('performance', 3322), ('shoelace', 3323), ('escalator', 3324), ('october', 3325), ('festival', 3326), ('praising', 3327), ('hokkaido', 3328), ('acts', 3329), ('rewarded', 3330), ('promotion', 3331), ('mayors', 3332), ('kidnapped', 3333), ('volcano', 3334), ('erupted', 3335), ('checked', 3336), ('childhood', 3337), ('soup', 3338), ('attended', 3339), ('yard', 3340), ('wheelchair', 3341), ('center', 3342), ('splashing', 3343), ('shallows', 3344), ('quits', 3345), ('cows', 3346), ('ruler', 3347), ('werent', 3348), ('although', 3349), ('grey', 3350), ('beard', 3351), ('sticky', 3352), ('cleaning', 3353), ('fits', 3354), ('elected', 3355), ('governor', 3356), ('texas', 3357), ('groceries', 3358), ('plans', 3359), ('unfinished', 3360), ('babysitter', 3361), ('provided', 3362), ('celebrate', 3363), ('motion', 3364), ('cultures', 3365), ('conclusion', 3366), ('refrain', 3367), ('allegedly', 3368), ('selfdefense', 3369), ('blazing', 3370), ('boxes', 3371), ('shells', 3372), ('octopus', 3373), ('principal', 3374), ('cheated', 3375), ('congratulated', 3376), ('joined', 3377), ('schools', 3378), ('pulled', 3379), ('recommended', 3380), ('apply', 3381), ('goofing', 3382), ('customers', 3383), ('signals', 3384), ('loss', 3385), ('tendency', 3386), ('soldier', 3387), ('insane', 3388), ('countless', 3389), ('twinkling', 3390), ('employers', 3391), ('exploit', 3392), ('scientific', 3393), ('discovery', 3394), ('spreading', 3395), ('mulch', 3396), ('beds', 3397), ('pillows', 3398), ('airconditioned', 3399), ('infected', 3400), ('illogical', 3401), ('crash', 3402), ('stupidest', 3403), ('impact', 3404), ('single', 3405), ('thirst', 3406), ('molecule', 3407), ('crystalline', 3408), ('structure', 3409), ('reasons', 3410), ('dining', 3411), ('massages', 3412), ('taped', 3413), ('duct', 3414), ('path', 3415), ('lenses', 3416), ('educated', 3417), ('noises', 3418), ('explored', 3419), ('repeats', 3420), ('saved', 3421), ('dates', 3422), ('custom', 3423), ('colonial', 3424), ('reputed', 3425), ('destined', 3426), ('musician', 3427), ('original', 3428), ('length', 3429), ('stated', 3430), ('withdraw', 3431), ('beside', 3432), ('connected', 3433), ('congratulate', 3434), ('engagement', 3435), ('movement', 3436), ('nearly', 3437), ('percent', 3438), ('intersection', 3439), ('advances', 3440), ('remarkable', 3441), ('habit', 3442), ('overseas', 3443), ('uses', 3444), ('machines', 3445), ('frying', 3446), ('pan', 3447), ('construction', 3448), ('loved', 3449), ('wouldve', 3450), ('diamond', 3451), ('remembered', 3452), ('punished', 3453), ('cycle', 3454), ('vegetable', 3455), ('computers', 3456), ('treasures', 3457), ('relieved', 3458), ('spoons', 3459), ('forks', 3460), ('conditions', 3461), ('accordion', 3462), ('papers', 3463), ('colorblind', 3464), ('nap', 3465), ('unclear', 3466), ('medicines', 3467), ('shrines', 3468), ('pointless', 3469), ('applicants', 3470), ('shark', 3471), ('sightings', 3472), ('extinguish', 3473), ('flames', 3474), ('reforming', 3475), ('education', 3476), ('coast', 3477), ('leads', 3478), ('narrow', 3479), ('thief', 3480), ('alike', 3481), ('crashing', 3482), ('questioned', 3483), ('golfer', 3484), ('financial', 3485), ('institution', 3486), ('regulate', 3487), ('collect', 3488), ('tuned', 3489), ('nonalcoholic', 3490), ('beverage', 3491), ('suitcases', 3492), ('zoology', 3493), ('animal', 3494), ('widower', 3495), ('canceled', 3496), ('junior', 3497), ('scattered', 3498), ('fro', 3499), ('spinning', 3500), ('web', 3501), ('gathered', 3502), ('toy', 3503), ('anticipate', 3504), ('direct', 3505), ('mondays', 3506), ('disturb', 3507), ('pace', 3508), ('hurrying', 3509), ('form', 3510), ('considered', 3511), ('middle', 3512), ('aged', 3513), ('charged', 3514), ('assault', 3515), ('prior', 3516), ('third', 3517), ('longest', 3518), ('ming', 3519), ('australian', 3520), ('drugtrafficking', 3521), ('charges', 3522), ('gym', 3523), ('cholera', 3524), ('spurred', 3525), ('action', 3526), ('british', 3527), ('queues', 3528), ('croatia', 3529), ('southeastern', 3530), ('assistance', 3531), ('escaping', 3532), ('toss', 3533), ('retract', 3534), ('furious', 3535), ('knowing', 3536), ('imagination', 3537), ('reagans', 3538), ('unreasonable', 3539), ('seventeen', 3540), ('february', 3541), ('poorly', 3542), ('crawled', 3543), ('highway', 3544), ('manhattan', 3545), ('explosion', 3546), ('recession', 3547), ('businesses', 3548), ('comment', 3549), ('fought', 3550), ('forty', 3551), ('persons', 3552), ('electric', 3553), ('lightbulb', 3554), ('accepts', 3555), ('astronaut', 3556), ('poker', 3557), ('highest', 3558), ('organize', 3559), ('files', 3560), ('strangelooking', 3561), ('tsunami', 3562), ('pigs', 3563), ('xylophone', 3564), ('seeds', 3565), ('frayed', 3566), ('cables', 3567), ('nara', 3568), ('existence', 3569), ('excavation', 3570), ('sip', 3571), ('bargained', 3572), ('remembers', 3573), ('results', 3574), ('doubts', 3575), ('jackson', 3576), ('fridge', 3577), ('chopsticks', 3578), ('slimming', 3579), ('governed', 3580), ('popularity', 3581), ('cigarettes', 3582), ('scent', 3583), ('fox', 3584), ('professors', 3585), ('space', 3586), ('assembled', 3587), ('pilots', 3588), ('commas', 3589), ('dating', 3590), ('genius', 3591), ('saturday', 3592), ('software', 3593), ('application', 3594), ('filter', 3595), ('official', 3596), ('pat', 3597), ('european', 3598), ('currencies', 3599), ('weakened', 3600), ('bell', 3601), ('coin', 3602), ('antique', 3603), ('nation', 3604), ('request', 3605), ('oilier', 3606), ('manage', 3607), ('driven', 3608), ('benefit', 3609), ('waltz', 3610), ('shepherd', 3611), ('poodle', 3612), ('relaxed', 3613), ('lowered', 3614), ('pretending', 3615), ('ultraviolet', 3616), ('crisis', 3617), ('announcement', 3618), ('yes', 3619), ('puddles', 3620), ('beetles', 3621), ('world’s', 3622), ('appreciates', 3623), ('grammatical', 3624), ('errors', 3625), ('segregation', 3626), ('bearings', 3627), ('finalize', 3628), ('details', 3629), ('peacefully', 3630), ('eighth', 3631), ('august', 3632), ('tango', 3633), ('funniest', 3634), ('influenced', 3635), ('vanished', 3636), ('rattled', 3637), ('bumpy', 3638), ('buildings', 3639), ('attempted', 3640), ('escape', 3641), ('painful', 3642), ('hangover', 3643), ('messages', 3644), ('restaurants', 3645), ('impression', 3646), ('swell', 3647), ('paying', 3648), ('sending', 3649), ('christmas', 3650), ('reincarnated', 3651), ('iker', 3652), ('casillas', 3653), ('goalkeeper', 3654), ('polluted', 3655), ('nikita', 3656), ('khrushchev', 3657), ('dependent', 3658), ('starbucks', 3659), ('cherry', 3660), ('gain', 3661), ('weight', 3662), ('ursa', 3663), ('northern', 3664), ('sexy', 3665), ('cell', 3666), ('century', 3667), ('secondhand', 3668), ('brakes', 3669), ('constellations', 3670), ('mercury', 3671), ('smallest', 3672), ('motherinlaw', 3673), ('aches', 3674), ('rumor', 3675), ('boarded', 3676), ('upload', 3677), ('youtube', 3678), ('acquaintances', 3679), ('posted', 3680), ('lewd', 3681), ('photo', 3682), ('media', 3683), ('shortest', 3684), ('unconscious', 3685), ('farm', 3686), ('girlfriends', 3687), ('greeted', 3688), ('politely', 3689), ('instructor', 3690), ('separated', 3691), ('enormous', 3692), ('earns', 3693), ('gang', 3694), ('briefcase', 3695), ('bride', 3696), ('spaghetti', 3697), ('twirling', 3698), ('attractive', 3699), ('build', 3700), ('fit', 3701), ('overcoat', 3702), ('landed', 3703), ('gardeners', 3704), ('azaleas', 3705), ('requested', 3706), ('whenever', 3707), ('lightning', 3708), ('flashed', 3709), ('criminal', 3710), ('explaining', 3711), ('rabies', 3712), ('bat', 3713), ('putting', 3714), ('thieves', 3715), ('candles', 3716), ('guineas', 3717), ('exports', 3718), ('memory', 3719), ('horror', 3720), ('searched', 3721), ('officers', 3722), ('subscribing', 3723), ('elderly', 3724), ('talented', 3725), ('survived', 3726), ('destroyed', 3727), ('stray', 3728), ('squatted', 3729), ('catches', 3730), ('mice', 3731), ('april', 3732), ('translate', 3733), ('thesis', 3734), ('increased', 3735), ('note', 3736), ('transmit', 3737), ('generation', 3738), ('unpack', 3739), ('inspection', 3740), ('rushhour', 3741), ('carried', 3742), ('search', 3743), ('draw', 3744), ('claimed', 3745), ('kilometers', 3746), ('investing', 3747), ('itd', 3748), ('siblings', 3749), ('holland', 3750), ('windmills', 3751), ('statess', 3752), ('economy', 3753), ('tempted', 3754), ('procedure', 3755), ('correctly', 3756), ('politicians', 3757), ('dealing', 3758), ('destinies', 3759), ('honestly', 3760), ('aging', 3761), ('background', 3762), ('advertise', 3763), ('fails', 3764), ('ring', 3765), ('moonlight', 3766), ('efficient', 3767), ('oneway', 3768), ('bath', 3769), ('desired', 3770), ('kagoshima', 3771), ('roads', 3772), ('flooded', 3773), ('delays', 3774), ('crowded', 3775), ('antares', 3776), ('brightest', 3777), ('star', 3778), ('scorpio', 3779), ('mirror', 3780), ('teenager', 3781), ('assists', 3782), ('assignments', 3783), ('stew', 3784), ('design', 3785), ('express', 3786), ('mouse', 3787), ('lured', 3788), ('zamenhof', 3789), ('creator', 3790), ('ophthalmologist', 3791), ('killing', 3792), ('lumbago', 3793), ('koizumis', 3794), ('post', 3795), ('illness', 3796), ('owners', 3797), ('feeding', 3798), ('neighbor', 3799), ('yelled', 3800), ('carrying', 3801), ('passengers', 3802), ('hidden', 3803), ('meets', 3804), ('burj', 3805), ('khalifa', 3806), ('skyscraper', 3807), ('greets', 3808), ('enters', 3809), ('threebedroom', 3810), ('outskirts', 3811), ('dozens', 3812), ('sympathy', 3813), ('obtained', 3814), ('religious', 3815), ('songs', 3816), ('ladino', 3817), ('translations', 3818), ('hebrew', 3819), ('protest', 3820), ('maintained', 3821), ('inventory', 3822), ('net', 3823), ('balance', 3824), ('pesos', 3825), ('altitude', 3826), ('rapidly', 3827), ('spouse', 3828), ('amazed', 3829), ('precisely', 3830), ('sensed', 3831), ('eclipses', 3832), ('fable', 3833), ('fairytale', 3834), ('daddy', 3835), ('piggyback', 3836), ('stuck', 3837), ('adequate', 3838), ('inventories', 3839), ('demand', 3840), ('fairy', 3841), ('tales', 3842), ('submit', 3843), ('casual', 3844), ('involved', 3845), ('heating', 3846), ('added', 3847), ('chapters', 3848), ('steak', 3849), ('companies', 3850), ('employees', 3851), ('japans', 3852), ('labor', 3853), ('shortage', 3854), ('examinations', 3855), ('brandenburg', 3856), ('landmarks', 3857), ('ukulele', 3858), ('respond', 3859), ('rhythmical', 3860), ('however', 3861), ('valentines', 3862), ('loaded', 3863), ('kindness', 3864), ('pizzaro', 3865), ('inca', 3866), ('treasure', 3867), ('cluttered', 3868), ('oaks', 3869), ('crate', 3870), ('crowbar', 3871), ('dynamite', 3872), ('surviving', 3873), ('equal', 3874), ('advantage', 3875), ('bodily', 3876), ('functions', 3877), ('temperature', 3878), ('falls', 3879), ('retires', 3880), ('scientists', 3881), ('debating', 3882), ('theory', 3883), ('disappearance', 3884), ('dinosaurs', 3885), ('industrial', 3886), ('revolution', 3887), ('tripled', 3888), ('surgeon', 3889), ('operation', 3890), ('highly', 3891), ('regarded', 3892), ('wondering', 3893), ('fathers', 3894), ('towards', 3895), ('mourning', 3896), ('nelson', 3897), ('mandela', 3898), ('closer', 3899), ('examination', 3900), ('revealed', 3901), ('opportunities', 3902), ('effort', 3903), ('breakdown', 3904), ('mansion', 3905), ('operates', 3906), ('principle', 3907), ('glimpse', 3908), ('eventually', 3909), ('cupcakes', 3910), ('vanilla', 3911), ('icing', 3912), ('rainforests', 3913), ('disappearing', 3914), ('rate', 3915), ('tens', 3916), ('thousands', 3917), ('hectares', 3918), ('classmates', 3919), ('smithereens', 3920), ('fortunately', 3921), ('fee', 3922), ('includes', 3923), ('payment', 3924), ('services', 3925), ('survey', 3926), ('sudden', 3927), ('increase', 3928), ('causing', 3929), ('sooner', 3930), ('gambled', 3931), ('inheritance', 3932), ('shown', 3933), ('exercises', 3934), ('abdominal', 3935), ('crunches', 3936), ('pot', 3937), ('belly', 3938), ('pimples', 3939), ('oddball', 3940), ('mixi', 3941), ('user', 3942), ('commotion', 3943), ('security', 3944), ('detained', 3945), ('shoplifting', 3946), ('wrestling', 3947), ('match', 3948), ('amount', 3949), ('majority', 3950), ('consecutive', 3951), ('footprints', 3952), ('abominable', 3953), ('snowman', 3954), ('himalayan', 3955), ('roger', 3956), ('miller', 3957), ('drums', 3958), ('types', 3959), ('teenage', 3960), ('theft', 3961), ('shuffled', 3962), ('slices', 3963), ('toaster', 3964), ('flat', 3965), ('tunnel', 3966), ('stiffness', 3967), ('joints', 3968), ('contain', 3969), ('sunscreen', 3970), ('sunburn', 3971), ('ironing', 3972), ('switched', 3973), ('unplugged', 3974), ('irene', 3975), ('pepperberg', 3976), ('researcher', 3977), ('northwestern', 3978), ('discovering', 3979), ('parrot', 3980), ('mimic', 3981), ('acquire', 3982), ('target', 3983), ('adult', 3984), ('level', 3985)])"
            ]
          },
          "metadata": {},
          "execution_count": 80
        }
      ]
    },
    {
      "cell_type": "code",
      "source": [
        "X_train,X_test,Y_train,Y_test = train_test_split(XX,YY,test_size=0.2,random_state=2)"
      ],
      "metadata": {
        "id": "ko0JKsXqwrgl"
      },
      "execution_count": 81,
      "outputs": []
    },
    {
      "cell_type": "code",
      "source": [
        "def generate_data(X=X_train,Y=Y_train,batch=128):\n",
        "  while 1:\n",
        "    for j in range(0,len(X),batch):\n",
        "      inputenc = X[j:j+batch,:]\n",
        "      inputdec    = Y[j:j+batch,:-1]\n",
        "      outputdec = Y[j:j+batch,1:]\n",
        "      output = np.zeros((outputdec.shape[0],maxinLan-1,lenVocabIn))\n",
        "      for a in range(outputdec.shape[0]):\n",
        "        for index,b in enumerate(outputdec[a]):\n",
        "          output[a][index][b] = 1\n",
        "      yield ([np.array(inputenc),np.array(inputdec)],output)"
      ],
      "metadata": {
        "id": "sObPne0e3NIQ"
      },
      "execution_count": 88,
      "outputs": []
    },
    {
      "cell_type": "markdown",
      "source": [
        "model"
      ],
      "metadata": {
        "id": "Xj7r26Dmw8dr"
      }
    },
    {
      "cell_type": "markdown",
      "source": [
        "la"
      ],
      "metadata": {
        "id": "YrFLzuucxGvW"
      }
    },
    {
      "cell_type": "code",
      "source": [
        "laten = 50"
      ],
      "metadata": {
        "id": "VP4EKLSIxHZF"
      },
      "execution_count": 83,
      "outputs": []
    },
    {
      "cell_type": "markdown",
      "source": [
        "model encoder"
      ],
      "metadata": {
        "id": "uZnbMY9LyhZM"
      }
    },
    {
      "cell_type": "code",
      "source": [
        "InputEnc = tf.keras.layers.Input(shape=(None,),name='inputenc')\n",
        "embed = tf.keras.layers.Embedding(lenVocabEn,laten,mask_zero = True,name='embedenc')(InputEnc)\n",
        "gru = tf.keras.layers.GRU(laten,return_state=True,name='gruenc')\n",
        "out,hid = gru(embed)\n",
        "states = [hid]\n",
        "\n",
        "InputDec = tf.keras.layers.Input(shape=(None,),name='inputdec')\n",
        "embed1 = tf.keras.layers.Embedding(lenVocabIn,laten,mask_zero = True,name='embeddec')\n",
        "decembed = embed1(InputDec)\n",
        "\n",
        "gru1= tf.keras.layers.GRU(laten,return_sequences=True,return_state=True,name='grudec')\n",
        "o,s = gru1(decembed,initial_state = states)\n",
        "denseLayer = tf.keras.layers.Dense(lenVocabIn,activation='softmax')\n",
        "dense = denseLayer(o)\n",
        "\n",
        "model = tf.keras.models.Model([InputEnc,InputDec],dense)"
      ],
      "metadata": {
        "id": "ouCT36BWw9EU"
      },
      "execution_count": 93,
      "outputs": []
    },
    {
      "cell_type": "code",
      "source": [
        "model.compile(optimizer='adam', loss='categorical_crossentropy', metrics=['acc'])"
      ],
      "metadata": {
        "id": "PY2oL8xmyJYK"
      },
      "execution_count": 94,
      "outputs": []
    },
    {
      "cell_type": "code",
      "source": [
        "model.summary()"
      ],
      "metadata": {
        "colab": {
          "base_uri": "https://localhost:8080/"
        },
        "id": "16YVBiIU2YtJ",
        "outputId": "813dfe7c-9af3-43b5-f9ea-8fe0f2be0178"
      },
      "execution_count": 96,
      "outputs": [
        {
          "output_type": "stream",
          "name": "stdout",
          "text": [
            "Model: \"model_12\"\n",
            "__________________________________________________________________________________________________\n",
            " Layer (type)                   Output Shape         Param #     Connected to                     \n",
            "==================================================================================================\n",
            " inputenc (InputLayer)          [(None, None)]       0           []                               \n",
            "                                                                                                  \n",
            " inputdec (InputLayer)          [(None, None)]       0           []                               \n",
            "                                                                                                  \n",
            " embedenc (Embedding)           (None, None, 50)     199300      ['inputenc[0][0]']               \n",
            "                                                                                                  \n",
            " embeddec (Embedding)           (None, None, 50)     241000      ['inputdec[0][0]']               \n",
            "                                                                                                  \n",
            " gruenc (GRU)                   [(None, 50),         15300       ['embedenc[0][0]']               \n",
            "                                 (None, 50)]                                                      \n",
            "                                                                                                  \n",
            " grudec (GRU)                   [(None, None, 50),   15300       ['embeddec[0][0]',               \n",
            "                                 (None, 50)]                      'gruenc[0][1]']                 \n",
            "                                                                                                  \n",
            " dense_2 (Dense)                (None, None, 4820)   245820      ['grudec[0][0]']                 \n",
            "                                                                                                  \n",
            "==================================================================================================\n",
            "Total params: 716,720\n",
            "Trainable params: 716,720\n",
            "Non-trainable params: 0\n",
            "__________________________________________________________________________________________________\n"
          ]
        }
      ]
    },
    {
      "cell_type": "code",
      "execution_count": 97,
      "metadata": {
        "id": "8C4WJ-esbUzZ"
      },
      "outputs": [],
      "source": [
        "train_samples = len(X_train)\n",
        "val_samples = len(X_test)\n",
        "batch_size = 128\n",
        "epochs = 200"
      ]
    },
    {
      "cell_type": "code",
      "execution_count": 98,
      "metadata": {
        "id": "lK0W2P8UbUzZ",
        "colab": {
          "base_uri": "https://localhost:8080/"
        },
        "outputId": "e6d8cf8f-9e4d-4fa6-b7c2-7870b158daec"
      },
      "outputs": [
        {
          "output_type": "stream",
          "name": "stdout",
          "text": [
            "Epoch 1/200\n"
          ]
        },
        {
          "output_type": "stream",
          "name": "stderr",
          "text": [
            "/usr/local/lib/python3.7/dist-packages/ipykernel_launcher.py:5: UserWarning: `Model.fit_generator` is deprecated and will be removed in a future version. Please use `Model.fit`, which supports generators.\n",
            "  \"\"\"\n"
          ]
        },
        {
          "output_type": "stream",
          "name": "stdout",
          "text": [
            "53/53 [==============================] - 14s 133ms/step - loss: 2.1952 - acc: 0.1908 - val_loss: 1.6732 - val_acc: 0.1392\n",
            "Epoch 2/200\n",
            "53/53 [==============================] - 5s 91ms/step - loss: 1.5404 - acc: 0.1398 - val_loss: 1.4950 - val_acc: 0.1449\n",
            "Epoch 3/200\n",
            "53/53 [==============================] - 5s 89ms/step - loss: 1.4726 - acc: 0.1702 - val_loss: 1.4679 - val_acc: 0.2015\n",
            "Epoch 4/200\n",
            "53/53 [==============================] - 5s 90ms/step - loss: 1.4458 - acc: 0.1965 - val_loss: 1.4495 - val_acc: 0.1947\n",
            "Epoch 5/200\n",
            "53/53 [==============================] - 5s 89ms/step - loss: 1.4189 - acc: 0.2146 - val_loss: 1.4235 - val_acc: 0.2613\n",
            "Epoch 6/200\n",
            "53/53 [==============================] - 5s 89ms/step - loss: 1.3832 - acc: 0.2925 - val_loss: 1.3880 - val_acc: 0.3034\n",
            "Epoch 7/200\n",
            "53/53 [==============================] - 5s 88ms/step - loss: 1.3445 - acc: 0.3024 - val_loss: 1.3552 - val_acc: 0.3058\n",
            "Epoch 8/200\n",
            "53/53 [==============================] - 5s 89ms/step - loss: 1.3088 - acc: 0.3072 - val_loss: 1.3301 - val_acc: 0.3148\n",
            "Epoch 9/200\n",
            "53/53 [==============================] - 5s 88ms/step - loss: 1.2785 - acc: 0.3167 - val_loss: 1.3108 - val_acc: 0.3189\n",
            "Epoch 10/200\n",
            "53/53 [==============================] - 5s 93ms/step - loss: 1.2538 - acc: 0.3200 - val_loss: 1.2964 - val_acc: 0.3207\n",
            "Epoch 11/200\n",
            "53/53 [==============================] - 5s 99ms/step - loss: 1.2314 - acc: 0.3246 - val_loss: 1.2825 - val_acc: 0.3268\n",
            "Epoch 12/200\n",
            "53/53 [==============================] - 5s 90ms/step - loss: 1.2102 - acc: 0.3292 - val_loss: 1.2754 - val_acc: 0.3276\n",
            "Epoch 13/200\n",
            "53/53 [==============================] - 5s 89ms/step - loss: 1.1915 - acc: 0.3328 - val_loss: 1.2628 - val_acc: 0.3327\n",
            "Epoch 14/200\n",
            "53/53 [==============================] - 5s 88ms/step - loss: 1.1780 - acc: 0.3361 - val_loss: 1.2537 - val_acc: 0.3346\n",
            "Epoch 15/200\n",
            "53/53 [==============================] - 5s 99ms/step - loss: 1.1660 - acc: 0.3410 - val_loss: 1.2465 - val_acc: 0.3365\n",
            "Epoch 16/200\n",
            "53/53 [==============================] - 5s 89ms/step - loss: 1.1473 - acc: 0.3453 - val_loss: 1.2436 - val_acc: 0.3354\n",
            "Epoch 17/200\n",
            "53/53 [==============================] - 5s 89ms/step - loss: 1.1296 - acc: 0.3499 - val_loss: 1.2345 - val_acc: 0.3379\n",
            "Epoch 18/200\n",
            "53/53 [==============================] - 5s 88ms/step - loss: 1.1180 - acc: 0.3541 - val_loss: 1.2221 - val_acc: 0.3433\n",
            "Epoch 19/200\n",
            "53/53 [==============================] - 5s 88ms/step - loss: 1.1020 - acc: 0.3588 - val_loss: 1.2174 - val_acc: 0.3469\n",
            "Epoch 20/200\n",
            "53/53 [==============================] - 5s 88ms/step - loss: 1.0901 - acc: 0.3615 - val_loss: 1.2065 - val_acc: 0.3491\n",
            "Epoch 21/200\n",
            "53/53 [==============================] - 5s 89ms/step - loss: 1.0725 - acc: 0.3693 - val_loss: 1.2029 - val_acc: 0.3524\n",
            "Epoch 22/200\n",
            "53/53 [==============================] - 5s 88ms/step - loss: 1.0571 - acc: 0.3754 - val_loss: 1.2040 - val_acc: 0.3560\n",
            "Epoch 23/200\n",
            "53/53 [==============================] - 5s 89ms/step - loss: 1.0460 - acc: 0.3808 - val_loss: 1.1990 - val_acc: 0.3619\n",
            "Epoch 24/200\n",
            "53/53 [==============================] - 5s 89ms/step - loss: 1.0331 - acc: 0.3863 - val_loss: 1.1908 - val_acc: 0.3651\n",
            "Epoch 25/200\n",
            "53/53 [==============================] - 5s 88ms/step - loss: 1.0225 - acc: 0.3898 - val_loss: 1.1898 - val_acc: 0.3615\n",
            "Epoch 26/200\n",
            "53/53 [==============================] - 5s 90ms/step - loss: 1.0128 - acc: 0.3936 - val_loss: 1.1844 - val_acc: 0.3695\n",
            "Epoch 27/200\n",
            "53/53 [==============================] - 5s 88ms/step - loss: 1.0038 - acc: 0.3973 - val_loss: 1.1934 - val_acc: 0.3744\n",
            "Epoch 28/200\n",
            "53/53 [==============================] - 5s 97ms/step - loss: 0.9999 - acc: 0.3986 - val_loss: 1.1767 - val_acc: 0.3754\n",
            "Epoch 29/200\n",
            "53/53 [==============================] - 5s 89ms/step - loss: 0.9853 - acc: 0.4043 - val_loss: 1.1739 - val_acc: 0.3765\n",
            "Epoch 30/200\n",
            "53/53 [==============================] - 5s 87ms/step - loss: 0.9700 - acc: 0.4096 - val_loss: 1.1701 - val_acc: 0.3802\n",
            "Epoch 31/200\n",
            "53/53 [==============================] - 5s 88ms/step - loss: 0.9575 - acc: 0.4140 - val_loss: 1.1689 - val_acc: 0.3804\n",
            "Epoch 32/200\n",
            "53/53 [==============================] - 5s 89ms/step - loss: 0.9473 - acc: 0.4174 - val_loss: 1.1681 - val_acc: 0.3820\n",
            "Epoch 33/200\n",
            "53/53 [==============================] - 5s 89ms/step - loss: 0.9367 - acc: 0.4209 - val_loss: 1.1663 - val_acc: 0.3858\n",
            "Epoch 34/200\n",
            "53/53 [==============================] - 5s 89ms/step - loss: 0.9259 - acc: 0.4251 - val_loss: 1.1657 - val_acc: 0.3894\n",
            "Epoch 35/200\n",
            "53/53 [==============================] - 5s 88ms/step - loss: 0.9176 - acc: 0.4282 - val_loss: 1.1648 - val_acc: 0.3903\n",
            "Epoch 36/200\n",
            "53/53 [==============================] - 5s 88ms/step - loss: 0.9095 - acc: 0.4299 - val_loss: 1.1633 - val_acc: 0.3907\n",
            "Epoch 37/200\n",
            "53/53 [==============================] - 5s 89ms/step - loss: 0.9022 - acc: 0.4321 - val_loss: 1.1660 - val_acc: 0.3823\n",
            "Epoch 38/200\n",
            "53/53 [==============================] - 5s 89ms/step - loss: 0.8978 - acc: 0.4321 - val_loss: 1.1607 - val_acc: 0.3912\n",
            "Epoch 39/200\n",
            "53/53 [==============================] - 5s 90ms/step - loss: 0.8956 - acc: 0.4318 - val_loss: 1.1635 - val_acc: 0.3958\n",
            "Epoch 40/200\n",
            "53/53 [==============================] - 5s 88ms/step - loss: 0.8823 - acc: 0.4372 - val_loss: 1.1497 - val_acc: 0.3937\n",
            "Epoch 41/200\n",
            "53/53 [==============================] - 5s 89ms/step - loss: 0.8676 - acc: 0.4425 - val_loss: 1.1507 - val_acc: 0.3957\n",
            "Epoch 42/200\n",
            "53/53 [==============================] - 5s 88ms/step - loss: 0.8562 - acc: 0.4461 - val_loss: 1.1509 - val_acc: 0.3956\n",
            "Epoch 43/200\n",
            "53/53 [==============================] - 5s 88ms/step - loss: 0.8475 - acc: 0.4492 - val_loss: 1.1536 - val_acc: 0.3926\n",
            "Epoch 44/200\n",
            "53/53 [==============================] - 5s 88ms/step - loss: 0.8380 - acc: 0.4533 - val_loss: 1.1532 - val_acc: 0.3950\n",
            "Epoch 45/200\n",
            "53/53 [==============================] - 5s 88ms/step - loss: 0.8322 - acc: 0.4558 - val_loss: 1.1522 - val_acc: 0.4001\n",
            "Epoch 46/200\n",
            "53/53 [==============================] - 5s 89ms/step - loss: 0.8241 - acc: 0.4586 - val_loss: 1.1534 - val_acc: 0.4022\n",
            "Epoch 47/200\n",
            "53/53 [==============================] - 5s 88ms/step - loss: 0.8169 - acc: 0.4606 - val_loss: 1.1541 - val_acc: 0.4006\n",
            "Epoch 48/200\n",
            "53/53 [==============================] - 5s 88ms/step - loss: 0.8094 - acc: 0.4628 - val_loss: 1.1565 - val_acc: 0.3986\n",
            "Epoch 49/200\n",
            "53/53 [==============================] - 5s 88ms/step - loss: 0.8026 - acc: 0.4658 - val_loss: 1.1520 - val_acc: 0.4036\n",
            "Epoch 50/200\n",
            "53/53 [==============================] - 5s 88ms/step - loss: 0.8023 - acc: 0.4663 - val_loss: 1.1698 - val_acc: 0.4080\n",
            "Epoch 51/200\n",
            "53/53 [==============================] - 5s 87ms/step - loss: 0.8011 - acc: 0.4650 - val_loss: 1.1468 - val_acc: 0.4061\n",
            "Epoch 52/200\n",
            "53/53 [==============================] - 5s 88ms/step - loss: 0.7868 - acc: 0.4701 - val_loss: 1.1471 - val_acc: 0.4076\n",
            "Epoch 53/200\n",
            "53/53 [==============================] - 5s 89ms/step - loss: 0.7752 - acc: 0.4763 - val_loss: 1.1464 - val_acc: 0.4094\n",
            "Epoch 54/200\n",
            "53/53 [==============================] - 5s 88ms/step - loss: 0.7639 - acc: 0.4806 - val_loss: 1.1492 - val_acc: 0.4048\n",
            "Epoch 55/200\n",
            "53/53 [==============================] - 5s 88ms/step - loss: 0.7584 - acc: 0.4836 - val_loss: 1.1484 - val_acc: 0.4076\n",
            "Epoch 56/200\n",
            "53/53 [==============================] - 5s 89ms/step - loss: 0.7502 - acc: 0.4876 - val_loss: 1.1512 - val_acc: 0.4055\n",
            "Epoch 57/200\n",
            "53/53 [==============================] - 5s 88ms/step - loss: 0.7427 - acc: 0.4904 - val_loss: 1.1562 - val_acc: 0.4001\n",
            "Epoch 58/200\n",
            "53/53 [==============================] - 5s 88ms/step - loss: 0.7374 - acc: 0.4924 - val_loss: 1.1512 - val_acc: 0.4102\n",
            "Epoch 59/200\n",
            "53/53 [==============================] - 5s 87ms/step - loss: 0.7324 - acc: 0.4944 - val_loss: 1.1502 - val_acc: 0.4103\n",
            "Epoch 60/200\n",
            "53/53 [==============================] - 5s 87ms/step - loss: 0.7263 - acc: 0.4974 - val_loss: 1.1514 - val_acc: 0.4107\n",
            "Epoch 61/200\n",
            "53/53 [==============================] - 5s 87ms/step - loss: 0.7173 - acc: 0.5024 - val_loss: 1.1603 - val_acc: 0.4152\n",
            "Epoch 62/200\n",
            "53/53 [==============================] - 5s 88ms/step - loss: 0.7117 - acc: 0.5043 - val_loss: 1.1553 - val_acc: 0.4164\n",
            "Epoch 63/200\n",
            "53/53 [==============================] - 5s 86ms/step - loss: 0.7052 - acc: 0.5083 - val_loss: 1.1555 - val_acc: 0.4158\n",
            "Epoch 64/200\n",
            "53/53 [==============================] - 5s 86ms/step - loss: 0.6983 - acc: 0.5113 - val_loss: 1.1561 - val_acc: 0.4173\n",
            "Epoch 65/200\n",
            "53/53 [==============================] - 5s 87ms/step - loss: 0.6918 - acc: 0.5152 - val_loss: 1.1559 - val_acc: 0.4174\n",
            "Epoch 66/200\n",
            "53/53 [==============================] - 5s 86ms/step - loss: 0.6857 - acc: 0.5178 - val_loss: 1.1614 - val_acc: 0.4075\n",
            "Epoch 67/200\n",
            "53/53 [==============================] - 5s 87ms/step - loss: 0.6797 - acc: 0.5214 - val_loss: 1.1589 - val_acc: 0.4122\n",
            "Epoch 68/200\n",
            "53/53 [==============================] - 5s 86ms/step - loss: 0.6785 - acc: 0.5215 - val_loss: 1.1599 - val_acc: 0.4121\n",
            "Epoch 69/200\n",
            "53/53 [==============================] - 5s 86ms/step - loss: 0.6717 - acc: 0.5257 - val_loss: 1.1630 - val_acc: 0.4085\n",
            "Epoch 70/200\n",
            "53/53 [==============================] - 5s 85ms/step - loss: 0.6637 - acc: 0.5290 - val_loss: 1.1579 - val_acc: 0.4220\n",
            "Epoch 71/200\n",
            "53/53 [==============================] - 5s 86ms/step - loss: 0.6587 - acc: 0.5312 - val_loss: 1.1637 - val_acc: 0.4214\n",
            "Epoch 72/200\n",
            "53/53 [==============================] - 5s 87ms/step - loss: 0.6557 - acc: 0.5347 - val_loss: 1.1703 - val_acc: 0.4221\n",
            "Epoch 73/200\n",
            "53/53 [==============================] - 5s 86ms/step - loss: 0.6482 - acc: 0.5380 - val_loss: 1.1589 - val_acc: 0.4211\n",
            "Epoch 74/200\n",
            "53/53 [==============================] - 5s 87ms/step - loss: 0.6430 - acc: 0.5413 - val_loss: 1.1612 - val_acc: 0.4143\n",
            "Epoch 75/200\n",
            "53/53 [==============================] - 5s 86ms/step - loss: 0.6344 - acc: 0.5472 - val_loss: 1.1619 - val_acc: 0.4161\n",
            "Epoch 76/200\n",
            "53/53 [==============================] - 5s 86ms/step - loss: 0.6269 - acc: 0.5504 - val_loss: 1.1610 - val_acc: 0.4241\n",
            "Epoch 77/200\n",
            "53/53 [==============================] - 4s 85ms/step - loss: 0.6207 - acc: 0.5549 - val_loss: 1.1674 - val_acc: 0.4246\n",
            "Epoch 78/200\n",
            "53/53 [==============================] - 5s 87ms/step - loss: 0.6124 - acc: 0.5601 - val_loss: 1.1657 - val_acc: 0.4227\n",
            "Epoch 79/200\n",
            "53/53 [==============================] - 5s 86ms/step - loss: 0.6059 - acc: 0.5635 - val_loss: 1.1660 - val_acc: 0.4224\n",
            "Epoch 80/200\n",
            "53/53 [==============================] - 5s 86ms/step - loss: 0.5999 - acc: 0.5670 - val_loss: 1.1690 - val_acc: 0.4204\n",
            "Epoch 81/200\n",
            "53/53 [==============================] - 5s 86ms/step - loss: 0.5931 - acc: 0.5713 - val_loss: 1.1696 - val_acc: 0.4224\n",
            "Epoch 82/200\n",
            "53/53 [==============================] - 5s 86ms/step - loss: 0.5876 - acc: 0.5745 - val_loss: 1.1716 - val_acc: 0.4237\n",
            "Epoch 83/200\n",
            "53/53 [==============================] - 5s 86ms/step - loss: 0.5828 - acc: 0.5789 - val_loss: 1.1750 - val_acc: 0.4253\n",
            "Epoch 84/200\n",
            "53/53 [==============================] - 5s 87ms/step - loss: 0.5773 - acc: 0.5822 - val_loss: 1.1782 - val_acc: 0.4270\n",
            "Epoch 85/200\n",
            "53/53 [==============================] - 5s 85ms/step - loss: 0.5720 - acc: 0.5848 - val_loss: 1.1783 - val_acc: 0.4251\n",
            "Epoch 86/200\n",
            "53/53 [==============================] - 5s 87ms/step - loss: 0.5676 - acc: 0.5879 - val_loss: 1.1802 - val_acc: 0.4248\n",
            "Epoch 87/200\n",
            "53/53 [==============================] - 5s 87ms/step - loss: 0.5625 - acc: 0.5912 - val_loss: 1.1848 - val_acc: 0.4225\n",
            "Epoch 88/200\n",
            "53/53 [==============================] - 5s 86ms/step - loss: 0.5576 - acc: 0.5945 - val_loss: 1.1890 - val_acc: 0.4185\n",
            "Epoch 89/200\n",
            "53/53 [==============================] - 5s 87ms/step - loss: 0.5534 - acc: 0.5965 - val_loss: 1.1868 - val_acc: 0.4226\n",
            "Epoch 90/200\n",
            "53/53 [==============================] - 5s 87ms/step - loss: 0.5504 - acc: 0.5981 - val_loss: 1.1863 - val_acc: 0.4268\n",
            "Epoch 91/200\n",
            "53/53 [==============================] - 5s 87ms/step - loss: 0.5485 - acc: 0.5999 - val_loss: 1.1912 - val_acc: 0.4282\n",
            "Epoch 92/200\n",
            "53/53 [==============================] - 5s 87ms/step - loss: 0.5437 - acc: 0.6022 - val_loss: 1.1997 - val_acc: 0.4291\n",
            "Epoch 93/200\n",
            "53/53 [==============================] - 5s 88ms/step - loss: 0.5422 - acc: 0.6033 - val_loss: 1.1923 - val_acc: 0.4277\n",
            "Epoch 94/200\n",
            "53/53 [==============================] - 5s 86ms/step - loss: 0.5425 - acc: 0.6007 - val_loss: 1.1955 - val_acc: 0.4203\n",
            "Epoch 95/200\n",
            "53/53 [==============================] - 5s 87ms/step - loss: 0.5430 - acc: 0.6018 - val_loss: 1.2034 - val_acc: 0.4130\n",
            "Epoch 96/200\n",
            "53/53 [==============================] - 5s 86ms/step - loss: 0.5380 - acc: 0.6056 - val_loss: 1.1906 - val_acc: 0.4324\n",
            "Epoch 97/200\n",
            "53/53 [==============================] - 5s 86ms/step - loss: 0.5273 - acc: 0.6122 - val_loss: 1.1922 - val_acc: 0.4318\n",
            "Epoch 98/200\n",
            "53/53 [==============================] - 5s 86ms/step - loss: 0.5161 - acc: 0.6182 - val_loss: 1.1903 - val_acc: 0.4276\n",
            "Epoch 99/200\n",
            "53/53 [==============================] - 5s 87ms/step - loss: 0.5084 - acc: 0.6251 - val_loss: 1.1932 - val_acc: 0.4283\n",
            "Epoch 100/200\n",
            "53/53 [==============================] - 5s 85ms/step - loss: 0.5019 - acc: 0.6309 - val_loss: 1.1961 - val_acc: 0.4285\n",
            "Epoch 101/200\n",
            "53/53 [==============================] - 5s 86ms/step - loss: 0.4973 - acc: 0.6339 - val_loss: 1.1985 - val_acc: 0.4296\n",
            "Epoch 102/200\n",
            "53/53 [==============================] - 5s 86ms/step - loss: 0.4914 - acc: 0.6364 - val_loss: 1.2011 - val_acc: 0.4297\n",
            "Epoch 103/200\n",
            "53/53 [==============================] - 5s 87ms/step - loss: 0.4869 - acc: 0.6392 - val_loss: 1.2046 - val_acc: 0.4293\n",
            "Epoch 104/200\n",
            "53/53 [==============================] - 5s 87ms/step - loss: 0.4833 - acc: 0.6417 - val_loss: 1.2068 - val_acc: 0.4286\n",
            "Epoch 105/200\n",
            "53/53 [==============================] - 5s 86ms/step - loss: 0.4794 - acc: 0.6456 - val_loss: 1.2106 - val_acc: 0.4309\n",
            "Epoch 106/200\n",
            "53/53 [==============================] - 5s 88ms/step - loss: 0.4754 - acc: 0.6483 - val_loss: 1.2124 - val_acc: 0.4307\n",
            "Epoch 107/200\n",
            "53/53 [==============================] - 5s 87ms/step - loss: 0.4720 - acc: 0.6494 - val_loss: 1.2158 - val_acc: 0.4313\n",
            "Epoch 108/200\n",
            "53/53 [==============================] - 5s 87ms/step - loss: 0.4673 - acc: 0.6530 - val_loss: 1.2179 - val_acc: 0.4314\n",
            "Epoch 109/200\n",
            "53/53 [==============================] - 5s 96ms/step - loss: 0.4665 - acc: 0.6533 - val_loss: 1.2204 - val_acc: 0.4298\n",
            "Epoch 110/200\n",
            "53/53 [==============================] - 5s 88ms/step - loss: 0.4632 - acc: 0.6551 - val_loss: 1.2227 - val_acc: 0.4300\n",
            "Epoch 111/200\n",
            "53/53 [==============================] - 5s 86ms/step - loss: 0.4622 - acc: 0.6556 - val_loss: 1.2240 - val_acc: 0.4287\n",
            "Epoch 112/200\n",
            "53/53 [==============================] - 5s 86ms/step - loss: 0.4581 - acc: 0.6578 - val_loss: 1.2267 - val_acc: 0.4285\n",
            "Epoch 113/200\n",
            "53/53 [==============================] - 5s 89ms/step - loss: 0.4539 - acc: 0.6612 - val_loss: 1.2283 - val_acc: 0.4307\n",
            "Epoch 114/200\n",
            "53/53 [==============================] - 5s 87ms/step - loss: 0.4521 - acc: 0.6617 - val_loss: 1.2285 - val_acc: 0.4316\n",
            "Epoch 115/200\n",
            "53/53 [==============================] - 5s 88ms/step - loss: 0.4485 - acc: 0.6650 - val_loss: 1.2321 - val_acc: 0.4331\n",
            "Epoch 116/200\n",
            "53/53 [==============================] - 5s 86ms/step - loss: 0.4433 - acc: 0.6691 - val_loss: 1.2361 - val_acc: 0.4331\n",
            "Epoch 117/200\n",
            "53/53 [==============================] - 5s 87ms/step - loss: 0.4404 - acc: 0.6704 - val_loss: 1.2359 - val_acc: 0.4302\n",
            "Epoch 118/200\n",
            "53/53 [==============================] - 5s 87ms/step - loss: 0.4381 - acc: 0.6725 - val_loss: 1.2360 - val_acc: 0.4308\n",
            "Epoch 119/200\n",
            "53/53 [==============================] - 5s 87ms/step - loss: 0.4347 - acc: 0.6757 - val_loss: 1.2429 - val_acc: 0.4264\n",
            "Epoch 120/200\n",
            "53/53 [==============================] - 5s 87ms/step - loss: 0.4310 - acc: 0.6776 - val_loss: 1.2435 - val_acc: 0.4275\n",
            "Epoch 121/200\n",
            "53/53 [==============================] - 5s 86ms/step - loss: 0.4300 - acc: 0.6776 - val_loss: 1.2398 - val_acc: 0.4313\n",
            "Epoch 122/200\n",
            "53/53 [==============================] - 5s 87ms/step - loss: 0.4304 - acc: 0.6766 - val_loss: 1.2416 - val_acc: 0.4357\n",
            "Epoch 123/200\n",
            "53/53 [==============================] - 5s 87ms/step - loss: 0.4260 - acc: 0.6805 - val_loss: 1.2570 - val_acc: 0.4352\n",
            "Epoch 124/200\n",
            "53/53 [==============================] - 5s 87ms/step - loss: 0.4253 - acc: 0.6796 - val_loss: 1.2465 - val_acc: 0.4330\n",
            "Epoch 125/200\n",
            "53/53 [==============================] - 5s 86ms/step - loss: 0.4219 - acc: 0.6808 - val_loss: 1.2498 - val_acc: 0.4284\n",
            "Epoch 126/200\n",
            "53/53 [==============================] - 5s 87ms/step - loss: 0.4187 - acc: 0.6833 - val_loss: 1.2516 - val_acc: 0.4252\n",
            "Epoch 127/200\n",
            "53/53 [==============================] - 5s 86ms/step - loss: 0.4147 - acc: 0.6861 - val_loss: 1.2494 - val_acc: 0.4351\n",
            "Epoch 128/200\n",
            "53/53 [==============================] - 5s 88ms/step - loss: 0.4096 - acc: 0.6923 - val_loss: 1.2535 - val_acc: 0.4357\n",
            "Epoch 129/200\n",
            "53/53 [==============================] - 5s 87ms/step - loss: 0.4037 - acc: 0.6955 - val_loss: 1.2542 - val_acc: 0.4327\n",
            "Epoch 130/200\n",
            "53/53 [==============================] - 5s 87ms/step - loss: 0.3987 - acc: 0.6986 - val_loss: 1.2569 - val_acc: 0.4296\n",
            "Epoch 131/200\n",
            "53/53 [==============================] - 5s 86ms/step - loss: 0.3955 - acc: 0.7011 - val_loss: 1.2584 - val_acc: 0.4314\n",
            "Epoch 132/200\n",
            "53/53 [==============================] - 5s 87ms/step - loss: 0.3903 - acc: 0.7053 - val_loss: 1.2601 - val_acc: 0.4335\n",
            "Epoch 133/200\n",
            "53/53 [==============================] - 5s 86ms/step - loss: 0.3874 - acc: 0.7079 - val_loss: 1.2637 - val_acc: 0.4331\n",
            "Epoch 134/200\n",
            "53/53 [==============================] - 5s 96ms/step - loss: 0.3851 - acc: 0.7092 - val_loss: 1.2661 - val_acc: 0.4311\n",
            "Epoch 135/200\n",
            "53/53 [==============================] - 5s 87ms/step - loss: 0.3818 - acc: 0.7117 - val_loss: 1.2699 - val_acc: 0.4301\n",
            "Epoch 136/200\n",
            "53/53 [==============================] - 5s 86ms/step - loss: 0.3799 - acc: 0.7138 - val_loss: 1.2724 - val_acc: 0.4306\n",
            "Epoch 137/200\n",
            "53/53 [==============================] - 5s 86ms/step - loss: 0.3786 - acc: 0.7140 - val_loss: 1.2764 - val_acc: 0.4301\n",
            "Epoch 138/200\n",
            "53/53 [==============================] - 5s 86ms/step - loss: 0.3771 - acc: 0.7157 - val_loss: 1.2779 - val_acc: 0.4322\n",
            "Epoch 139/200\n",
            "53/53 [==============================] - 5s 86ms/step - loss: 0.3755 - acc: 0.7164 - val_loss: 1.2764 - val_acc: 0.4334\n",
            "Epoch 140/200\n",
            "53/53 [==============================] - 5s 87ms/step - loss: 0.3729 - acc: 0.7181 - val_loss: 1.2814 - val_acc: 0.4342\n",
            "Epoch 141/200\n",
            "53/53 [==============================] - 5s 86ms/step - loss: 0.3688 - acc: 0.7212 - val_loss: 1.2869 - val_acc: 0.4314\n",
            "Epoch 142/200\n",
            "53/53 [==============================] - 5s 87ms/step - loss: 0.3679 - acc: 0.7206 - val_loss: 1.2872 - val_acc: 0.4320\n",
            "Epoch 143/200\n",
            "53/53 [==============================] - 5s 86ms/step - loss: 0.3657 - acc: 0.7219 - val_loss: 1.2912 - val_acc: 0.4291\n",
            "Epoch 144/200\n",
            "53/53 [==============================] - 5s 87ms/step - loss: 0.3618 - acc: 0.7253 - val_loss: 1.3026 - val_acc: 0.4238\n",
            "Epoch 145/200\n",
            "53/53 [==============================] - 5s 87ms/step - loss: 0.3614 - acc: 0.7264 - val_loss: 1.2946 - val_acc: 0.4296\n",
            "Epoch 146/200\n",
            "53/53 [==============================] - 5s 88ms/step - loss: 0.3602 - acc: 0.7262 - val_loss: 1.2976 - val_acc: 0.4296\n",
            "Epoch 147/200\n",
            "53/53 [==============================] - 5s 86ms/step - loss: 0.3596 - acc: 0.7267 - val_loss: 1.2990 - val_acc: 0.4332\n",
            "Epoch 148/200\n",
            "53/53 [==============================] - 5s 87ms/step - loss: 0.3554 - acc: 0.7308 - val_loss: 1.3081 - val_acc: 0.4356\n",
            "Epoch 149/200\n",
            "53/53 [==============================] - 5s 86ms/step - loss: 0.3565 - acc: 0.7291 - val_loss: 1.3016 - val_acc: 0.4341\n",
            "Epoch 150/200\n",
            "53/53 [==============================] - 5s 88ms/step - loss: 0.3549 - acc: 0.7300 - val_loss: 1.3042 - val_acc: 0.4332\n",
            "Epoch 151/200\n",
            "53/53 [==============================] - 5s 86ms/step - loss: 0.3547 - acc: 0.7285 - val_loss: 1.3152 - val_acc: 0.4239\n",
            "Epoch 152/200\n",
            "53/53 [==============================] - 5s 88ms/step - loss: 0.3526 - acc: 0.7292 - val_loss: 1.3097 - val_acc: 0.4267\n",
            "Epoch 153/200\n",
            "53/53 [==============================] - 5s 87ms/step - loss: 0.3538 - acc: 0.7288 - val_loss: 1.3101 - val_acc: 0.4349\n",
            "Epoch 154/200\n",
            "53/53 [==============================] - 5s 87ms/step - loss: 0.3481 - acc: 0.7327 - val_loss: 1.3144 - val_acc: 0.4361\n",
            "Epoch 155/200\n",
            "53/53 [==============================] - 5s 87ms/step - loss: 0.3442 - acc: 0.7379 - val_loss: 1.3103 - val_acc: 0.4296\n",
            "Epoch 156/200\n",
            "53/53 [==============================] - 5s 87ms/step - loss: 0.3370 - acc: 0.7435 - val_loss: 1.3116 - val_acc: 0.4315\n",
            "Epoch 157/200\n",
            "53/53 [==============================] - 5s 86ms/step - loss: 0.3322 - acc: 0.7474 - val_loss: 1.3158 - val_acc: 0.4342\n",
            "Epoch 158/200\n",
            "53/53 [==============================] - 5s 88ms/step - loss: 0.3287 - acc: 0.7504 - val_loss: 1.3182 - val_acc: 0.4350\n",
            "Epoch 159/200\n",
            "53/53 [==============================] - 5s 87ms/step - loss: 0.3262 - acc: 0.7526 - val_loss: 1.3207 - val_acc: 0.4316\n",
            "Epoch 160/200\n",
            "53/53 [==============================] - 5s 88ms/step - loss: 0.3236 - acc: 0.7543 - val_loss: 1.3240 - val_acc: 0.4311\n",
            "Epoch 161/200\n",
            "53/53 [==============================] - 5s 86ms/step - loss: 0.3229 - acc: 0.7552 - val_loss: 1.3249 - val_acc: 0.4340\n",
            "Epoch 162/200\n",
            "53/53 [==============================] - 5s 86ms/step - loss: 0.3200 - acc: 0.7577 - val_loss: 1.3298 - val_acc: 0.4343\n",
            "Epoch 163/200\n",
            "53/53 [==============================] - 5s 87ms/step - loss: 0.3199 - acc: 0.7563 - val_loss: 1.3329 - val_acc: 0.4327\n",
            "Epoch 164/200\n",
            "53/53 [==============================] - 5s 88ms/step - loss: 0.3166 - acc: 0.7594 - val_loss: 1.3339 - val_acc: 0.4325\n",
            "Epoch 165/200\n",
            "53/53 [==============================] - 5s 87ms/step - loss: 0.3159 - acc: 0.7593 - val_loss: 1.3406 - val_acc: 0.4270\n",
            "Epoch 166/200\n",
            "53/53 [==============================] - 5s 88ms/step - loss: 0.3181 - acc: 0.7567 - val_loss: 1.3395 - val_acc: 0.4302\n",
            "Epoch 167/200\n",
            "53/53 [==============================] - 5s 87ms/step - loss: 0.3159 - acc: 0.7586 - val_loss: 1.3421 - val_acc: 0.4323\n",
            "Epoch 168/200\n",
            "53/53 [==============================] - 5s 87ms/step - loss: 0.3113 - acc: 0.7627 - val_loss: 1.3458 - val_acc: 0.4319\n",
            "Epoch 169/200\n",
            "53/53 [==============================] - 5s 86ms/step - loss: 0.3088 - acc: 0.7636 - val_loss: 1.3497 - val_acc: 0.4331\n",
            "Epoch 170/200\n",
            "53/53 [==============================] - 5s 87ms/step - loss: 0.3068 - acc: 0.7667 - val_loss: 1.3506 - val_acc: 0.4306\n",
            "Epoch 171/200\n",
            "53/53 [==============================] - 5s 86ms/step - loss: 0.3041 - acc: 0.7675 - val_loss: 1.3523 - val_acc: 0.4305\n",
            "Epoch 172/200\n",
            "53/53 [==============================] - 5s 88ms/step - loss: 0.3010 - acc: 0.7705 - val_loss: 1.3543 - val_acc: 0.4306\n",
            "Epoch 173/200\n",
            "53/53 [==============================] - 5s 87ms/step - loss: 0.3000 - acc: 0.7709 - val_loss: 1.3626 - val_acc: 0.4275\n",
            "Epoch 174/200\n",
            "53/53 [==============================] - 5s 87ms/step - loss: 0.2987 - acc: 0.7722 - val_loss: 1.3605 - val_acc: 0.4290\n",
            "Epoch 175/200\n",
            "53/53 [==============================] - 5s 87ms/step - loss: 0.2987 - acc: 0.7711 - val_loss: 1.3627 - val_acc: 0.4278\n",
            "Epoch 176/200\n",
            "53/53 [==============================] - 5s 88ms/step - loss: 0.2989 - acc: 0.7706 - val_loss: 1.3685 - val_acc: 0.4275\n",
            "Epoch 177/200\n",
            "53/53 [==============================] - 5s 86ms/step - loss: 0.2984 - acc: 0.7715 - val_loss: 1.3692 - val_acc: 0.4321\n",
            "Epoch 178/200\n",
            "53/53 [==============================] - 5s 88ms/step - loss: 0.2988 - acc: 0.7702 - val_loss: 1.3707 - val_acc: 0.4311\n",
            "Epoch 179/200\n",
            "53/53 [==============================] - 5s 87ms/step - loss: 0.3065 - acc: 0.7611 - val_loss: 1.3738 - val_acc: 0.4304\n",
            "Epoch 180/200\n",
            "53/53 [==============================] - 5s 88ms/step - loss: 0.3040 - acc: 0.7642 - val_loss: 1.3702 - val_acc: 0.4285\n",
            "Epoch 181/200\n",
            "53/53 [==============================] - 5s 87ms/step - loss: 0.2971 - acc: 0.7693 - val_loss: 1.3813 - val_acc: 0.4229\n",
            "Epoch 182/200\n",
            "53/53 [==============================] - 5s 88ms/step - loss: 0.2964 - acc: 0.7695 - val_loss: 1.3728 - val_acc: 0.4296\n",
            "Epoch 183/200\n",
            "53/53 [==============================] - 5s 86ms/step - loss: 0.2943 - acc: 0.7710 - val_loss: 1.3766 - val_acc: 0.4321\n",
            "Epoch 184/200\n",
            "53/53 [==============================] - 5s 87ms/step - loss: 0.2902 - acc: 0.7748 - val_loss: 1.3797 - val_acc: 0.4305\n",
            "Epoch 185/200\n",
            "53/53 [==============================] - 5s 88ms/step - loss: 0.2872 - acc: 0.7787 - val_loss: 1.3830 - val_acc: 0.4270\n",
            "Epoch 186/200\n",
            "53/53 [==============================] - 5s 88ms/step - loss: 0.2817 - acc: 0.7819 - val_loss: 1.3858 - val_acc: 0.4261\n",
            "Epoch 187/200\n",
            "53/53 [==============================] - 5s 88ms/step - loss: 0.2775 - acc: 0.7863 - val_loss: 1.3838 - val_acc: 0.4311\n",
            "Epoch 188/200\n",
            "53/53 [==============================] - 5s 88ms/step - loss: 0.2752 - acc: 0.7883 - val_loss: 1.3879 - val_acc: 0.4298\n",
            "Epoch 189/200\n",
            "53/53 [==============================] - 5s 87ms/step - loss: 0.2721 - acc: 0.7915 - val_loss: 1.3921 - val_acc: 0.4303\n",
            "Epoch 190/200\n",
            "53/53 [==============================] - 5s 87ms/step - loss: 0.2699 - acc: 0.7938 - val_loss: 1.3960 - val_acc: 0.4297\n",
            "Epoch 191/200\n",
            "53/53 [==============================] - 5s 88ms/step - loss: 0.2689 - acc: 0.7949 - val_loss: 1.3968 - val_acc: 0.4317\n",
            "Epoch 192/200\n",
            "53/53 [==============================] - 5s 88ms/step - loss: 0.2673 - acc: 0.7960 - val_loss: 1.4016 - val_acc: 0.4320\n",
            "Epoch 193/200\n",
            "53/53 [==============================] - 5s 88ms/step - loss: 0.2653 - acc: 0.7967 - val_loss: 1.4053 - val_acc: 0.4311\n",
            "Epoch 194/200\n",
            "53/53 [==============================] - 5s 88ms/step - loss: 0.2650 - acc: 0.7974 - val_loss: 1.4081 - val_acc: 0.4279\n",
            "Epoch 195/200\n",
            "53/53 [==============================] - 5s 86ms/step - loss: 0.2640 - acc: 0.7977 - val_loss: 1.4133 - val_acc: 0.4290\n",
            "Epoch 196/200\n",
            "53/53 [==============================] - 5s 88ms/step - loss: 0.2643 - acc: 0.7975 - val_loss: 1.4114 - val_acc: 0.4286\n",
            "Epoch 197/200\n",
            "53/53 [==============================] - 5s 86ms/step - loss: 0.2638 - acc: 0.7969 - val_loss: 1.4163 - val_acc: 0.4326\n",
            "Epoch 198/200\n",
            "53/53 [==============================] - 5s 87ms/step - loss: 0.2638 - acc: 0.7974 - val_loss: 1.4181 - val_acc: 0.4316\n",
            "Epoch 199/200\n",
            "53/53 [==============================] - 5s 86ms/step - loss: 0.2643 - acc: 0.7959 - val_loss: 1.4224 - val_acc: 0.4331\n",
            "Epoch 200/200\n",
            "53/53 [==============================] - 5s 88ms/step - loss: 0.2636 - acc: 0.7961 - val_loss: 1.4209 - val_acc: 0.4285\n"
          ]
        },
        {
          "output_type": "execute_result",
          "data": {
            "text/plain": [
              "<keras.callbacks.History at 0x7f77db956150>"
            ]
          },
          "metadata": {},
          "execution_count": 98
        }
      ],
      "source": [
        "model.fit_generator(generator = generate_data(X_train, Y_train, batch = batch_size),\n",
        "                    steps_per_epoch = train_samples//batch_size,\n",
        "                    epochs=epochs,\n",
        "                    validation_data = generate_data(X_test, Y_test, batch= batch_size),\n",
        "                    validation_steps = val_samples//batch_size)"
      ]
    },
    {
      "cell_type": "markdown",
      "source": [
        "model decoder"
      ],
      "metadata": {
        "id": "_TgSIElryiMI"
      }
    },
    {
      "cell_type": "code",
      "source": [
        "model.save_weights('nmt_weights.h5')"
      ],
      "metadata": {
        "id": "krmr8KnXJ_uY"
      },
      "execution_count": 99,
      "outputs": []
    },
    {
      "cell_type": "code",
      "source": [
        "encModel = tf.keras.models.Model(InputEnc,states)"
      ],
      "metadata": {
        "id": "egiwMm_rKKBc"
      },
      "execution_count": 158,
      "outputs": []
    },
    {
      "cell_type": "code",
      "source": [
        "o,s= gru1(decembed,initial_state = states)\n",
        "dense = denseLayer(o)\n",
        "decoder_model = tf.keras.models.Model(\n",
        "    [InputDec,states],\n",
        "    [dense,s]\n",
        ")"
      ],
      "metadata": {
        "id": "V9oN0_vMKuRw"
      },
      "execution_count": 159,
      "outputs": []
    },
    {
      "cell_type": "code",
      "source": [
        "latent_dim=50"
      ],
      "metadata": {
        "id": "2OCHy_3P-Jpj"
      },
      "execution_count": 160,
      "outputs": []
    },
    {
      "cell_type": "code",
      "source": [
        "decoder_model.summary()"
      ],
      "metadata": {
        "colab": {
          "base_uri": "https://localhost:8080/"
        },
        "id": "iMzsCCjo-VcN",
        "outputId": "488d272f-6d91-48a3-a714-37f0a27c5df8"
      },
      "execution_count": 161,
      "outputs": [
        {
          "output_type": "stream",
          "name": "stdout",
          "text": [
            "Model: \"model_23\"\n",
            "__________________________________________________________________________________________________\n",
            " Layer (type)                   Output Shape         Param #     Connected to                     \n",
            "==================================================================================================\n",
            " inputdec (InputLayer)          [(None, None)]       0           []                               \n",
            "                                                                                                  \n",
            " embeddec (Embedding)           (None, None, 50)     241000      ['inputdec[0][0]']               \n",
            "                                                                                                  \n",
            " input_12 (InputLayer)          [(None, 50)]         0           []                               \n",
            "                                                                                                  \n",
            " grudec (GRU)                   [(None, None, 50),   15300       ['embeddec[5][0]',               \n",
            "                                 (None, 50)]                      'input_12[0][0]']               \n",
            "                                                                                                  \n",
            " dense_2 (Dense)                (None, None, 4820)   245820      ['grudec[9][0]']                 \n",
            "                                                                                                  \n",
            "==================================================================================================\n",
            "Total params: 502,120\n",
            "Trainable params: 502,120\n",
            "Non-trainable params: 0\n",
            "__________________________________________________________________________________________________\n"
          ]
        }
      ]
    },
    {
      "cell_type": "code",
      "source": [
        "worden =  tokenizerEn.word_index\n",
        "wordin = tokenizerIn.word_index"
      ],
      "metadata": {
        "id": "PORVG1w-ZCiy"
      },
      "execution_count": 162,
      "outputs": []
    },
    {
      "cell_type": "code",
      "source": [
        "wordens = {v: k for k, v in worden.items()}\n",
        "wordins = {v: k for k, v in wordin.items()}"
      ],
      "metadata": {
        "id": "CBbo4cgZiy4-"
      },
      "execution_count": 163,
      "outputs": []
    },
    {
      "cell_type": "code",
      "source": [
        "def translate(Xin):\n",
        "  for i in Xin[0]:\n",
        "    if i == 0 :\n",
        "      break\n",
        "    if not (wordens[i] == 'start' or wordens[i] == 'end'):\n",
        "      print(wordens[i],end=\" \")\n",
        "  print()\n",
        "  print('terjemahan')\n",
        "  state = encModel.predict(Xin)\n",
        "  indexof = np.array(tokenizerIn.texts_to_sequences(np.array(['start'])))\n",
        "  stop_condition = False\n",
        "  decoded_sentence = ''\n",
        "  state = state\n",
        "  while not stop_condition:\n",
        "      o, h = decoder_model.predict([indexof,state])\n",
        "      # Sample a token\n",
        "      sampled_token_index = np.argmax(o[0][0])\n",
        "      sampled_char = wordins[sampled_token_index]\n",
        "      decoded_sentence += ' '+sampled_char\n",
        "\n",
        "      # Exit condition: either hit max length\n",
        "      # or find stop character.\n",
        "      if (sampled_char == 'end' or\n",
        "          len(decoded_sentence) >50):\n",
        "          stop_condition = True\n",
        "      # Update the target sequence (of length 1).\n",
        "      # target_seq = np.zeros((1,1))\n",
        "      # target_seq[0, 0] = sampled_token_index\n",
        "      indexof = np.zeros((1,1))\n",
        "      indexof[0, 0] = sampled_token_index\n",
        "\n",
        "      # Update states\n",
        "      state= h\n",
        "\n",
        "  return decoded_sentence"
      ],
      "metadata": {
        "id": "8KkqorQ27e1u"
      },
      "execution_count": 164,
      "outputs": []
    },
    {
      "cell_type": "code",
      "source": [
        "a = generate_data(batch=100)"
      ],
      "metadata": {
        "id": "JTx4OAKtaRLa"
      },
      "execution_count": 165,
      "outputs": []
    },
    {
      "cell_type": "code",
      "source": [
        "b = next(a)"
      ],
      "metadata": {
        "id": "9yRsGAi9aU1v"
      },
      "execution_count": 175,
      "outputs": []
    },
    {
      "cell_type": "code",
      "source": [
        "Xin = np.expand_dims(b[0][0][10],axis=0)"
      ],
      "metadata": {
        "id": "K-YoMimeaWcI"
      },
      "execution_count": 176,
      "outputs": []
    },
    {
      "cell_type": "code",
      "source": [
        "Xin.shape"
      ],
      "metadata": {
        "colab": {
          "base_uri": "https://localhost:8080/"
        },
        "id": "QLnLyp5Y9UZA",
        "outputId": "5ff8dfed-4790-45aa-db46-0dd144731f65"
      },
      "execution_count": 178,
      "outputs": [
        {
          "output_type": "execute_result",
          "data": {
            "text/plain": [
              "(1, 34)"
            ]
          },
          "metadata": {},
          "execution_count": 178
        }
      ]
    },
    {
      "cell_type": "code",
      "source": [
        "translate(Xin)"
      ],
      "metadata": {
        "colab": {
          "base_uri": "https://localhost:8080/",
          "height": 72
        },
        "id": "bb25maq270fY",
        "outputId": "dd73caa8-b860-4b8c-ae37-d52ac7196e75"
      },
      "execution_count": 177,
      "outputs": [
        {
          "output_type": "stream",
          "name": "stdout",
          "text": [
            "tom looks tired doesnt he \n",
            "terjemahan\n"
          ]
        },
        {
          "output_type": "execute_result",
          "data": {
            "text/plain": [
              "' bukankah tom terlihat sangat lelah end'"
            ],
            "application/vnd.google.colaboratory.intrinsic+json": {
              "type": "string"
            }
          },
          "metadata": {},
          "execution_count": 177
        }
      ]
    },
    {
      "cell_type": "code",
      "source": [
        "translate(tes)"
      ],
      "metadata": {
        "colab": {
          "base_uri": "https://localhost:8080/",
          "height": 72
        },
        "id": "ztxx30Xj-LLh",
        "outputId": "918f188c-a7a3-4f16-c068-20d5f22e9182"
      },
      "execution_count": 195,
      "outputs": [
        {
          "output_type": "stream",
          "name": "stdout",
          "text": [
            "you are my cup of tea \n",
            "terjemahan\n"
          ]
        },
        {
          "output_type": "execute_result",
          "data": {
            "text/plain": [
              "' apa kau yakin dengan apa yang kau ketahui end'"
            ],
            "application/vnd.google.colaboratory.intrinsic+json": {
              "type": "string"
            }
          },
          "metadata": {},
          "execution_count": 195
        }
      ]
    }
  ]
}